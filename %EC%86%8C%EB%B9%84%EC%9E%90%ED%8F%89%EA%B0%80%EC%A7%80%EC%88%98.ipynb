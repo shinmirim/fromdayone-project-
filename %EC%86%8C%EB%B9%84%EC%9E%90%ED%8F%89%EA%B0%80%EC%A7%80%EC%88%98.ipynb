{
 "cells": [
  {
   "cell_type": "code",
   "execution_count": 34,
   "id": "referenced-modem",
   "metadata": {},
   "outputs": [],
   "source": [
    "import pandas as pd\n",
    "import numpy as np"
   ]
  },
  {
   "cell_type": "code",
   "execution_count": 35,
   "id": "married-sacrifice",
   "metadata": {},
   "outputs": [],
   "source": [
    "ReviewNP = pd.read_excel(\"긍정확률 개선.xlsx\")"
   ]
  },
  {
   "cell_type": "code",
   "execution_count": 36,
   "id": "auburn-treatment",
   "metadata": {},
   "outputs": [
    {
     "data": {
      "text/plain": [
       "Index(['Unnamed: 0', '상품명', '평점', '리뷰내용', '긍정확률'], dtype='object')"
      ]
     },
     "execution_count": 36,
     "metadata": {},
     "output_type": "execute_result"
    }
   ],
   "source": [
    "ReviewNP.columns"
   ]
  },
  {
   "cell_type": "code",
   "execution_count": 37,
   "id": "artificial-fellow",
   "metadata": {},
   "outputs": [
    {
     "name": "stderr",
     "output_type": "stream",
     "text": [
      "c:\\users\\alsrn\\appdata\\local\\programs\\python\\python37\\lib\\site-packages\\ipykernel_launcher.py:1: FutureWarning: Indexing with multiple keys (implicitly converted to a tuple of keys) will be deprecated, use a list instead.\n",
      "  \"\"\"Entry point for launching an IPython kernel.\n"
     ]
    }
   ],
   "source": [
    "평가항목평균 = ReviewNP.groupby('상품명')['긍정확률','평점'].mean()"
   ]
  },
  {
   "cell_type": "code",
   "execution_count": 39,
   "id": "oriented-slovakia",
   "metadata": {},
   "outputs": [],
   "source": [
    "ReviewTest = pd.DataFrame(평가항목평균)\n",
    "ReviewTest.rename(columns = {'긍정확률' : '소비자리뷰점수', '평점' : '소비자평점지수'}, inplace = True)"
   ]
  },
  {
   "cell_type": "code",
   "execution_count": 40,
   "id": "adjusted-particle",
   "metadata": {},
   "outputs": [
    {
     "data": {
      "text/html": [
       "<div>\n",
       "<style scoped>\n",
       "    .dataframe tbody tr th:only-of-type {\n",
       "        vertical-align: middle;\n",
       "    }\n",
       "\n",
       "    .dataframe tbody tr th {\n",
       "        vertical-align: top;\n",
       "    }\n",
       "\n",
       "    .dataframe thead th {\n",
       "        text-align: right;\n",
       "    }\n",
       "</style>\n",
       "<table border=\"1\" class=\"dataframe\">\n",
       "  <thead>\n",
       "    <tr style=\"text-align: right;\">\n",
       "      <th></th>\n",
       "      <th>소비자리뷰점수</th>\n",
       "      <th>소비자평점점수</th>\n",
       "    </tr>\n",
       "    <tr>\n",
       "      <th>상품명</th>\n",
       "      <th></th>\n",
       "      <th></th>\n",
       "    </tr>\n",
       "  </thead>\n",
       "  <tbody>\n",
       "    <tr>\n",
       "      <th>Y라인방지 속치마바지</th>\n",
       "      <td>90.632546</td>\n",
       "      <td>4.555556</td>\n",
       "    </tr>\n",
       "    <tr>\n",
       "      <th>♥특가 이벤트 4종 모음전♥</th>\n",
       "      <td>92.246536</td>\n",
       "      <td>4.382353</td>\n",
       "    </tr>\n",
       "    <tr>\n",
       "      <th>가넷 셔링 브이나시</th>\n",
       "      <td>88.828314</td>\n",
       "      <td>4.500000</td>\n",
       "    </tr>\n",
       "    <tr>\n",
       "      <th>가든파티 벨벳 나시&amp;가디건set</th>\n",
       "      <td>93.377829</td>\n",
       "      <td>4.400000</td>\n",
       "    </tr>\n",
       "    <tr>\n",
       "      <th>가람 베이직 롱스커트</th>\n",
       "      <td>94.423362</td>\n",
       "      <td>5.000000</td>\n",
       "    </tr>\n",
       "    <tr>\n",
       "      <th>...</th>\n",
       "      <td>...</td>\n",
       "      <td>...</td>\n",
       "    </tr>\n",
       "    <tr>\n",
       "      <th>히치 유넥티</th>\n",
       "      <td>96.164821</td>\n",
       "      <td>4.950000</td>\n",
       "    </tr>\n",
       "    <tr>\n",
       "      <th>히트 롱스커트</th>\n",
       "      <td>97.447373</td>\n",
       "      <td>4.666667</td>\n",
       "    </tr>\n",
       "    <tr>\n",
       "      <th>히피 스퀘어 블라우스</th>\n",
       "      <td>94.168714</td>\n",
       "      <td>4.416667</td>\n",
       "    </tr>\n",
       "    <tr>\n",
       "      <th>힐리 귀걸이</th>\n",
       "      <td>98.296757</td>\n",
       "      <td>5.000000</td>\n",
       "    </tr>\n",
       "    <tr>\n",
       "      <th>힙스 조거팬츠</th>\n",
       "      <td>86.125729</td>\n",
       "      <td>4.700000</td>\n",
       "    </tr>\n",
       "  </tbody>\n",
       "</table>\n",
       "<p>2167 rows × 2 columns</p>\n",
       "</div>"
      ],
      "text/plain": [
       "                     소비자리뷰점수   소비자평점점수\n",
       "상품명                                   \n",
       "Y라인방지 속치마바지        90.632546  4.555556\n",
       "♥특가 이벤트 4종 모음전♥    92.246536  4.382353\n",
       "가넷 셔링 브이나시         88.828314  4.500000\n",
       "가든파티 벨벳 나시&가디건set  93.377829  4.400000\n",
       "가람 베이직 롱스커트        94.423362  5.000000\n",
       "...                      ...       ...\n",
       "히치 유넥티             96.164821  4.950000\n",
       "히트 롱스커트            97.447373  4.666667\n",
       "히피 스퀘어 블라우스        94.168714  4.416667\n",
       "힐리 귀걸이             98.296757  5.000000\n",
       "힙스 조거팬츠            86.125729  4.700000\n",
       "\n",
       "[2167 rows x 2 columns]"
      ]
     },
     "execution_count": 40,
     "metadata": {},
     "output_type": "execute_result"
    }
   ],
   "source": [
    "소비자평가지수"
   ]
  },
  {
   "cell_type": "code",
   "execution_count": 41,
   "id": "lightweight-rider",
   "metadata": {},
   "outputs": [],
   "source": [
    "소비자평가지수.to_excel(\"소비자평가지수.xlsx\")"
   ]
  }
 ],
 "metadata": {
  "kernelspec": {
   "display_name": "Python 3",
   "language": "python",
   "name": "python3"
  },
  "language_info": {
   "codemirror_mode": {
    "name": "ipython",
    "version": 3
   },
   "file_extension": ".py",
   "mimetype": "text/x-python",
   "name": "python",
   "nbconvert_exporter": "python",
   "pygments_lexer": "ipython3",
   "version": "3.7.9"
  }
 },
 "nbformat": 4,
 "nbformat_minor": 5
}

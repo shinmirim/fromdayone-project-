{
 "cells": [
  {
   "cell_type": "code",
   "execution_count": 221,
   "id": "brutal-experiment",
   "metadata": {},
   "outputs": [],
   "source": [
    "import pandas as pd\n",
    "import numpy as np\n",
    "import warnings\n",
    "warnings.filterwarnings(action='ignore')"
   ]
  },
  {
   "cell_type": "markdown",
   "id": "billion-director",
   "metadata": {},
   "source": [
    "* ITEM data 1차 클렌징 \n",
    "============================="
   ]
  },
  {
   "cell_type": "code",
   "execution_count": 222,
   "id": "tough-witness",
   "metadata": {},
   "outputs": [],
   "source": [
    "ITEM = pd.read_csv(\"C:/Users/alsrn/datacampus/Item Data.csv\")"
   ]
  },
  {
   "cell_type": "markdown",
   "id": "alien-suite",
   "metadata": {},
   "source": [
    "* 상품명 전처리"
   ]
  },
  {
   "cell_type": "code",
   "execution_count": 224,
   "id": "speaking-immunology",
   "metadata": {},
   "outputs": [],
   "source": [
    "i = 0\n",
    "A = []\n",
    "for i in range(6202):\n",
    "    A.append(ITEM[\"상품명\"][i].replace(\"[DAYONE LABEL]\",\"\").replace(\"[1+1]\",\"\").replace(\"[1+1♥]\",\"\").replace(\"[La belle rose]\",\"\")\n",
    "            .replace(\"기획특가♥\",\"\").replace(\"[기획특가]\",\"\").replace(\"[램스울30%]\",\"\").replace(\"[램스울50%]\",\"\")\n",
    "            .replace(\"[램스울70%]\",\"\").replace(\"[silver92.5]\",\"\").replace(\"[울30%]\",\"\").replace(\"[울35%]\",\"\").replace(\"[울40%]\",\"\")\n",
    "            .replace(\"[울45%]\",\"\").replace(\"[울50%]\",\"\").replace(\"[울55%]\",\"\").replace(\"[울60%]\",\"\").replace(\"[울70%]\",\"\")\n",
    "            .replace(\"[울80%]\",\"\").replace(\"[울85%]\",\"\").replace(\"[울90%]\",\"\").replace(\"[울100%]\",\"\").replace(\"[캐시60%]\",\"\")\n",
    "            .replace(\"단독)\",\"\").replace(\"[DAYOME LABEL]\",\"\").replace(\"[2만장돌파]\",\"\").replace(\"[La belle rose/1+1♥]\",\"\"))\n",
    "    ITEM[\"상품명\"][i] = A[i]\n",
    "    i = i + 1"
   ]
  },
  {
   "cell_type": "markdown",
   "id": "integral-repeat",
   "metadata": {},
   "source": [
    "*옵션입력 전처리 "
   ]
  },
  {
   "cell_type": "code",
   "execution_count": 225,
   "id": "announced-marker",
   "metadata": {},
   "outputs": [],
   "source": [
    "ITEM[\"옵션입력\"] = [str(x).replace('color','').replace('{','').replace('}','').replace('|',\",\") for x in ITEM[\"옵션입력\"]]"
   ]
  },
  {
   "cell_type": "code",
   "execution_count": 226,
   "id": "revolutionary-diagram",
   "metadata": {},
   "outputs": [],
   "source": [
    "ITEM[\"옵션입력\"] = [x.split('//')[0] for x in ITEM[\"옵션입력\"]]"
   ]
  },
  {
   "cell_type": "code",
   "execution_count": 227,
   "id": "scientific-alert",
   "metadata": {},
   "outputs": [
    {
     "data": {
      "text/plain": [
       "0                                     아이보리,블랙\n",
       "1                                 아이보리,코코아,블랙\n",
       "2                           아이보리,베이지,민트,핑크,블루\n",
       "3       아이보리,크림,진베이지,모카브라운,핑크,라벤더,스카이블루,차콜,블랙\n",
       "4                                      베이지,블랙\n",
       "                        ...                  \n",
       "6198                                베이지,핑크,블랙\n",
       "6199                                화이트,크림,블랙\n",
       "6200                               아이보리,핑크,블랙\n",
       "6201                                       실버\n",
       "6202                                크림,그레이,블랙\n",
       "Name: 옵션입력, Length: 6203, dtype: object"
      ]
     },
     "execution_count": 227,
     "metadata": {},
     "output_type": "execute_result"
    }
   ],
   "source": [
    "ITEM[\"옵션입력\"]"
   ]
  },
  {
   "cell_type": "markdown",
   "id": "palestinian-drain",
   "metadata": {},
   "source": [
    "* 엑셀로 저장 "
   ]
  },
  {
   "cell_type": "code",
   "execution_count": null,
   "id": "juvenile-departure",
   "metadata": {},
   "outputs": [],
   "source": [
    "ITEM.to_excel('ITEMData_clean.xlsx')"
   ]
  },
  {
   "cell_type": "markdown",
   "id": "falling-scotland",
   "metadata": {},
   "source": [
    "* ITEM data 2차 클렌징\n",
    "========================="
   ]
  },
  {
   "cell_type": "code",
   "execution_count": 228,
   "id": "adult-private",
   "metadata": {},
   "outputs": [],
   "source": [
    "two_ITEM = pd.read_csv(\"C:/Users/alsrn/OneDrive/바탕 화면/프롬데이원/데이터/cafe24/ITEMData_clean.csv\")"
   ]
  },
  {
   "cell_type": "code",
   "execution_count": 229,
   "id": "average-highland",
   "metadata": {},
   "outputs": [],
   "source": [
    "two_ITEM[\"상품명\"] = [x.split('(')[0] for x in two_ITEM[\"상품명\"]]"
   ]
  },
  {
   "cell_type": "code",
   "execution_count": 230,
   "id": "instructional-spanking",
   "metadata": {},
   "outputs": [],
   "source": [
    "two_ITEM[\"상품명\"] = [x.split('/')[0] for x in two_ITEM[\"상품명\"]]"
   ]
  },
  {
   "cell_type": "markdown",
   "id": "primary-rehabilitation",
   "metadata": {},
   "source": [
    "* 최종 전처리 엑셀로 저장 "
   ]
  },
  {
   "cell_type": "code",
   "execution_count": null,
   "id": "interracial-captain",
   "metadata": {},
   "outputs": [],
   "source": [
    "two_ITEM.to_excel('ITEMData_clean.xlsx')"
   ]
  },
  {
   "cell_type": "markdown",
   "id": "trying-cosmetic",
   "metadata": {},
   "source": [
    "* reviewData 1차 클렌징\n",
    "=========================="
   ]
  },
  {
   "cell_type": "code",
   "execution_count": 324,
   "id": "advised-major",
   "metadata": {},
   "outputs": [],
   "source": [
    "Review = pd.read_csv(\"C:/Users/alsrn/OneDrive/바탕 화면/프롬데이원/데이터/cafe24/Review Data.csv\")"
   ]
  },
  {
   "cell_type": "markdown",
   "id": "twelve-contribution",
   "metadata": {},
   "source": [
    "* 평점 전처리"
   ]
  },
  {
   "cell_type": "code",
   "execution_count": 325,
   "id": "elegant-phrase",
   "metadata": {},
   "outputs": [],
   "source": [
    "Review[\"평점\"] = [str(x).replace('점','') for x in Review[\"평점\"]]"
   ]
  },
  {
   "cell_type": "markdown",
   "id": "classical-stranger",
   "metadata": {},
   "source": [
    "* 상품명 전처리(ITEM data와 같은 과정) "
   ]
  },
  {
   "cell_type": "code",
   "execution_count": 327,
   "id": "unavailable-primary",
   "metadata": {},
   "outputs": [],
   "source": [
    "i = 0\n",
    "A = []\n",
    "for i in range(57365):\n",
    "    A.append(Review[\"상품명\"][i].replace(\"[DAYONE LABEL]\",\"\").replace(\"[1+1]\",\"\").replace(\"[1+1♥]\",\"\").replace(\"[La belle rose]\",\"\")\n",
    "            .replace(\"기획특가♥\",\"\").replace(\"[기획특가]\",\"\").replace(\"[램스울30%]\",\"\").replace(\"[램스울50%]\",\"\").replace(\"7000장 돌파!\",\"\")\n",
    "            .replace(\"[램스울70%]\",\"\").replace(\"[silver92.5]\",\"\").replace(\"[울30%]\",\"\").replace(\"[울35%]\",\"\").replace(\"[울40%]\",\"\")\n",
    "            .replace(\"[울45%]\",\"\").replace(\"[울50%]\",\"\").replace(\"[울55%]\",\"\").replace(\"[울60%]\",\"\").replace(\"[울70%]\",\"\").replace(\"/\",\"\")\n",
    "            .replace(\"[울80%]\",\"\").replace(\"[울85%]\",\"\").replace(\"[울90%]\",\"\").replace(\"[울100%]\",\"\").replace(\"[캐시60%]\",\"\").replace(\"[La belle rose1+1♥]\",\"\")\n",
    "            .replace(\"단독)\",\"\").replace(\"[DAYOME LABEL]\",\"\").replace(\"[2만장돌파]\",\"\").replace(\"[La belle rose/1+1♥]\",\"\").replace(\"[15000장돌파]\",\"\"))\n",
    "    Review[\"상품명\"][i] = A[i]\n",
    "    i = i + 1"
   ]
  },
  {
   "cell_type": "code",
   "execution_count": 328,
   "id": "musical-quarterly",
   "metadata": {},
   "outputs": [],
   "source": [
    "Review[\"상품명\"] = [x.split('(')[0] for x in Review[\"상품명\"]]"
   ]
  },
  {
   "cell_type": "code",
   "execution_count": 329,
   "id": "italian-tamil",
   "metadata": {},
   "outputs": [
    {
     "data": {
      "text/html": [
       "<div>\n",
       "<style scoped>\n",
       "    .dataframe tbody tr th:only-of-type {\n",
       "        vertical-align: middle;\n",
       "    }\n",
       "\n",
       "    .dataframe tbody tr th {\n",
       "        vertical-align: top;\n",
       "    }\n",
       "\n",
       "    .dataframe thead th {\n",
       "        text-align: right;\n",
       "    }\n",
       "</style>\n",
       "<table border=\"1\" class=\"dataframe\">\n",
       "  <thead>\n",
       "    <tr style=\"text-align: right;\">\n",
       "      <th></th>\n",
       "      <th>상품명</th>\n",
       "      <th>평점</th>\n",
       "      <th>리뷰내용</th>\n",
       "    </tr>\n",
       "  </thead>\n",
       "  <tbody>\n",
       "    <tr>\n",
       "      <th>0</th>\n",
       "      <td>엘레나 머메이드 롱스커트</td>\n",
       "      <td>5</td>\n",
       "      <td>생각보단 얇아요 머메이드가 부담스럽지 않아서 너무 맘에들구 이뻐요 ㅎㅎ</td>\n",
       "    </tr>\n",
       "    <tr>\n",
       "      <th>1</th>\n",
       "      <td>마젤 브이 골지니트</td>\n",
       "      <td>4</td>\n",
       "      <td>하루 입었는데 보풀이 잘잘하게 일어나는것 같아용 ㅠ 생각보다 색상은 좀 더 채도잇는...</td>\n",
       "    </tr>\n",
       "    <tr>\n",
       "      <th>2</th>\n",
       "      <td>더블린 벌룬 라운드가디건</td>\n",
       "      <td>1</td>\n",
       "      <td>채워져서 온 단추를 그냥 풀었을뿐인데 옷이 저렇게됬어요 ,,,, 옷이 힘이없어요 나...</td>\n",
       "    </tr>\n",
       "    <tr>\n",
       "      <th>3</th>\n",
       "      <td>케이즈 하이스키니진</td>\n",
       "      <td>5</td>\n",
       "      <td>밴딩잇어서 너무 편하고 색상도 화면이랑 똑같아요~!</td>\n",
       "    </tr>\n",
       "    <tr>\n",
       "      <th>4</th>\n",
       "      <td>모란 체크 미디스커트</td>\n",
       "      <td>5</td>\n",
       "      <td>원래는 m입는데 이건 너무커서 s로 교환했는데 딱맞고 이뻐요!</td>\n",
       "    </tr>\n",
       "    <tr>\n",
       "      <th>...</th>\n",
       "      <td>...</td>\n",
       "      <td>...</td>\n",
       "      <td>...</td>\n",
       "    </tr>\n",
       "    <tr>\n",
       "      <th>57360</th>\n",
       "      <td>소리 플라워 롱원피스</td>\n",
       "      <td>5</td>\n",
       "      <td>색감도 괜찮고 소재도 괜찮고\\n딱 이뻐요~~</td>\n",
       "    </tr>\n",
       "    <tr>\n",
       "      <th>57361</th>\n",
       "      <td>리브드 뷔스티에 롱원피스</td>\n",
       "      <td>5</td>\n",
       "      <td>팔뚝때문에 원피스는 너무 예쁜데 ㅠ 안에 티셔츠 입어야할거같아여 ㅣㅠㅠㅠ</td>\n",
       "    </tr>\n",
       "    <tr>\n",
       "      <th>57362</th>\n",
       "      <td>테니 유넥티</td>\n",
       "      <td>2</td>\n",
       "      <td>두벌사서 한번 더 리뷰 남기게 됐는데ㅠ 아무튼 팔뚝 걱정되는 분들 한벌만 사던가 절...</td>\n",
       "    </tr>\n",
       "    <tr>\n",
       "      <th>57363</th>\n",
       "      <td>딘트 체크 스퀘어원피스</td>\n",
       "      <td>5</td>\n",
       "      <td>가슴이 조금 있는 편이라 잠그기 조금 힘든부분 있지만 너어무 맘에 들어오ㅠ 섹시쿠티...</td>\n",
       "    </tr>\n",
       "    <tr>\n",
       "      <th>57364</th>\n",
       "      <td>테니 유넥티</td>\n",
       "      <td>2</td>\n",
       "      <td>팔뚝 있으신분들 고려해야돼여ㅠㅠ 화이트 회색 둘다 샀는데 저는 팔ㅋ둑살 있는 편이라...</td>\n",
       "    </tr>\n",
       "  </tbody>\n",
       "</table>\n",
       "<p>57365 rows × 3 columns</p>\n",
       "</div>"
      ],
      "text/plain": [
       "                 상품명 평점                                               리뷰내용\n",
       "0      엘레나 머메이드 롱스커트  5            생각보단 얇아요 머메이드가 부담스럽지 않아서 너무 맘에들구 이뻐요 ㅎㅎ\n",
       "1         마젤 브이 골지니트  4  하루 입었는데 보풀이 잘잘하게 일어나는것 같아용 ㅠ 생각보다 색상은 좀 더 채도잇는...\n",
       "2      더블린 벌룬 라운드가디건  1  채워져서 온 단추를 그냥 풀었을뿐인데 옷이 저렇게됬어요 ,,,, 옷이 힘이없어요 나...\n",
       "3        케이즈 하이스키니진   5                       밴딩잇어서 너무 편하고 색상도 화면이랑 똑같아요~!\n",
       "4        모란 체크 미디스커트  5                 원래는 m입는데 이건 너무커서 s로 교환했는데 딱맞고 이뻐요!\n",
       "...              ... ..                                                ...\n",
       "57360    소리 플라워 롱원피스  5                           색감도 괜찮고 소재도 괜찮고\\n딱 이뻐요~~\n",
       "57361  리브드 뷔스티에 롱원피스  5          팔뚝때문에 원피스는 너무 예쁜데 ㅠ 안에 티셔츠 입어야할거같아여 ㅣㅠㅠㅠ \n",
       "57362         테니 유넥티  2  두벌사서 한번 더 리뷰 남기게 됐는데ㅠ 아무튼 팔뚝 걱정되는 분들 한벌만 사던가 절...\n",
       "57363   딘트 체크 스퀘어원피스  5  가슴이 조금 있는 편이라 잠그기 조금 힘든부분 있지만 너어무 맘에 들어오ㅠ 섹시쿠티...\n",
       "57364         테니 유넥티  2  팔뚝 있으신분들 고려해야돼여ㅠㅠ 화이트 회색 둘다 샀는데 저는 팔ㅋ둑살 있는 편이라...\n",
       "\n",
       "[57365 rows x 3 columns]"
      ]
     },
     "execution_count": 329,
     "metadata": {},
     "output_type": "execute_result"
    }
   ],
   "source": [
    "Review"
   ]
  },
  {
   "cell_type": "markdown",
   "id": "changing-action",
   "metadata": {},
   "source": [
    "review data 엑셀로 저장"
   ]
  },
  {
   "cell_type": "code",
   "execution_count": 323,
   "id": "bulgarian-collapse",
   "metadata": {},
   "outputs": [],
   "source": [
    "Review.to_excel('Reviewata_clean.xlsx')"
   ]
  }
 ],
 "metadata": {
  "kernelspec": {
   "display_name": "Python 3",
   "language": "python",
   "name": "python3"
  },
  "language_info": {
   "codemirror_mode": {
    "name": "ipython",
    "version": 3
   },
   "file_extension": ".py",
   "mimetype": "text/x-python",
   "name": "python",
   "nbconvert_exporter": "python",
   "pygments_lexer": "ipython3",
   "version": "3.8.8"
  }
 },
 "nbformat": 4,
 "nbformat_minor": 5
}

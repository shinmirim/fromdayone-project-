{
 "cells": [
  {
   "cell_type": "code",
   "execution_count": 1,
   "metadata": {},
   "outputs": [],
   "source": [
    "import pandas as pd\n",
    "import numpy as np\n",
    "import matplotlib.pyplot as plt\n",
    "import seaborn as sns\n",
    "%matplotlib inline"
   ]
  },
  {
   "cell_type": "code",
   "execution_count": 2,
   "metadata": {},
   "outputs": [
    {
     "name": "stdout",
     "output_type": "stream",
     "text": [
      "<class 'pandas.core.frame.DataFrame'>\n",
      "RangeIndex: 57364 entries, 0 to 57363\n",
      "Data columns (total 4 columns):\n",
      " #   Column  Non-Null Count  Dtype \n",
      "---  ------  --------------  ----- \n",
      " 0   상품명     57364 non-null  object\n",
      " 1   평점      57364 non-null  int64 \n",
      " 2   리뷰내용    57363 non-null  object\n",
      " 3   리뷰명사    57364 non-null  object\n",
      "dtypes: int64(1), object(3)\n",
      "memory usage: 1.8+ MB\n"
     ]
    }
   ],
   "source": [
    "review=pd.read_excel('review형태소.xlsx')\n",
    "review.info()"
   ]
  },
  {
   "cell_type": "code",
   "execution_count": 3,
   "metadata": {},
   "outputs": [
    {
     "data": {
      "text/html": [
       "<div>\n",
       "<style scoped>\n",
       "    .dataframe tbody tr th:only-of-type {\n",
       "        vertical-align: middle;\n",
       "    }\n",
       "\n",
       "    .dataframe tbody tr th {\n",
       "        vertical-align: top;\n",
       "    }\n",
       "\n",
       "    .dataframe thead th {\n",
       "        text-align: right;\n",
       "    }\n",
       "</style>\n",
       "<table border=\"1\" class=\"dataframe\">\n",
       "  <thead>\n",
       "    <tr style=\"text-align: right;\">\n",
       "      <th></th>\n",
       "      <th>상품명</th>\n",
       "      <th>평점</th>\n",
       "      <th>리뷰내용</th>\n",
       "      <th>리뷰명사</th>\n",
       "    </tr>\n",
       "  </thead>\n",
       "  <tbody>\n",
       "    <tr>\n",
       "      <th>0</th>\n",
       "      <td>라벨르 베이직셔츠</td>\n",
       "      <td>5</td>\n",
       "      <td>두께도 적당하고 디자인 색감 다 맘에 들어오 \\n가격도 저렴하고 잘산것같아요!! 담...</td>\n",
       "      <td>['두께', '디자인', '색감', '맘', '가격', '담', '색도']</td>\n",
       "    </tr>\n",
       "    <tr>\n",
       "      <th>1</th>\n",
       "      <td>라벨르 베이직셔츠</td>\n",
       "      <td>4</td>\n",
       "      <td>딱 기본 셔츠하게 좋아요! 부들부들한데 너무 빳빳한 소재도 아닌게 딱 여리해보이고 ...</td>\n",
       "      <td>['기본', '셔츠', '빳빳', '소재', '여리해', '보이', '생각', '안...</td>\n",
       "    </tr>\n",
       "    <tr>\n",
       "      <th>2</th>\n",
       "      <td>라벨르 베이직셔츠</td>\n",
       "      <td>5</td>\n",
       "      <td>청바지에도 어울리고 슬랙스에도 어울리고 좋아요 !!</td>\n",
       "      <td>['청바지', '슬랙스']</td>\n",
       "    </tr>\n",
       "    <tr>\n",
       "      <th>3</th>\n",
       "      <td>라벨르 베이직셔츠</td>\n",
       "      <td>5</td>\n",
       "      <td>청바지에 입어도 예쁘고 치마랑 입어도 예뻐요!! 카라가 커서 기본템이어도 마냥 무난...</td>\n",
       "      <td>['청바지', '치마', '카라', '커서', '기본', '템', '이어도', '마...</td>\n",
       "    </tr>\n",
       "    <tr>\n",
       "      <th>4</th>\n",
       "      <td>라벨르 베이직셔츠</td>\n",
       "      <td>4</td>\n",
       "      <td>보들보들하니 딱 좋아용 ㅎ 소재 특성상 주름은 어쩔수 없지만 너무 예뻐요 자켓이랑 ...</td>\n",
       "      <td>['소재', '특성', '주름', '수', '자켓', '더', '아유']</td>\n",
       "    </tr>\n",
       "  </tbody>\n",
       "</table>\n",
       "</div>"
      ],
      "text/plain": [
       "         상품명  평점                                               리뷰내용  \\\n",
       "0  라벨르 베이직셔츠   5  두께도 적당하고 디자인 색감 다 맘에 들어오 \\n가격도 저렴하고 잘산것같아요!! 담...   \n",
       "1  라벨르 베이직셔츠   4  딱 기본 셔츠하게 좋아요! 부들부들한데 너무 빳빳한 소재도 아닌게 딱 여리해보이고 ...   \n",
       "2  라벨르 베이직셔츠   5                       청바지에도 어울리고 슬랙스에도 어울리고 좋아요 !!   \n",
       "3  라벨르 베이직셔츠   5  청바지에 입어도 예쁘고 치마랑 입어도 예뻐요!! 카라가 커서 기본템이어도 마냥 무난...   \n",
       "4  라벨르 베이직셔츠   4  보들보들하니 딱 좋아용 ㅎ 소재 특성상 주름은 어쩔수 없지만 너무 예뻐요 자켓이랑 ...   \n",
       "\n",
       "                                                리뷰명사  \n",
       "0          ['두께', '디자인', '색감', '맘', '가격', '담', '색도']  \n",
       "1  ['기본', '셔츠', '빳빳', '소재', '여리해', '보이', '생각', '안...  \n",
       "2                                     ['청바지', '슬랙스']  \n",
       "3  ['청바지', '치마', '카라', '커서', '기본', '템', '이어도', '마...  \n",
       "4           ['소재', '특성', '주름', '수', '자켓', '더', '아유']  "
      ]
     },
     "execution_count": 3,
     "metadata": {},
     "output_type": "execute_result"
    }
   ],
   "source": [
    "review.head()"
   ]
  },
  {
   "cell_type": "markdown",
   "metadata": {},
   "source": [
    "# 평점, 리뷰 감성분석\n",
    "\n",
    "### 1) 평점이 3점인 데이터를 제거하여 새로운 데이터를 만든 다음, 평점을 기준으로 1,2점은 부정 / 4,5점은 긍정으로 나눔\n",
    "\n",
    "### 2) 1)번 데이터를 바탕으로 회귀, 분류 방법을 사용하여 train_test_split 수행\n",
    "#### train=1,2,4,5점, test=3점\n",
    "\n",
    "### 3) 2)번 데이터를 바탕으로 각 긍정, 부정에는 어떤 단어들이 주로 사용되었는지 파악함"
   ]
  },
  {
   "cell_type": "markdown",
   "metadata": {},
   "source": [
    "------------------------------------------------------------------------\n",
    "\n",
    "### 1) 평점이 3점인 데이터를 제거하여 새로운 데이터를 만든 다음, 평점을 기준으로 1,2점은 부정 / 4,5점은 긍정으로 나눔"
   ]
  },
  {
   "cell_type": "code",
   "execution_count": 4,
   "metadata": {},
   "outputs": [
    {
     "data": {
      "text/html": [
       "<div>\n",
       "<style scoped>\n",
       "    .dataframe tbody tr th:only-of-type {\n",
       "        vertical-align: middle;\n",
       "    }\n",
       "\n",
       "    .dataframe tbody tr th {\n",
       "        vertical-align: top;\n",
       "    }\n",
       "\n",
       "    .dataframe thead th {\n",
       "        text-align: right;\n",
       "    }\n",
       "</style>\n",
       "<table border=\"1\" class=\"dataframe\">\n",
       "  <thead>\n",
       "    <tr style=\"text-align: right;\">\n",
       "      <th></th>\n",
       "      <th>상품명</th>\n",
       "      <th>평점</th>\n",
       "      <th>리뷰내용</th>\n",
       "      <th>리뷰명사</th>\n",
       "    </tr>\n",
       "  </thead>\n",
       "  <tbody>\n",
       "    <tr>\n",
       "      <th>0</th>\n",
       "      <td>라벨르 베이직셔츠</td>\n",
       "      <td>5</td>\n",
       "      <td>두께도 적당하고 디자인 색감 다 맘에 들어오 \\n가격도 저렴하고 잘산것같아요!! 담...</td>\n",
       "      <td>['두께', '디자인', '색감', '맘', '가격', '담', '색도']</td>\n",
       "    </tr>\n",
       "    <tr>\n",
       "      <th>1</th>\n",
       "      <td>라벨르 베이직셔츠</td>\n",
       "      <td>4</td>\n",
       "      <td>딱 기본 셔츠하게 좋아요! 부들부들한데 너무 빳빳한 소재도 아닌게 딱 여리해보이고 ...</td>\n",
       "      <td>['기본', '셔츠', '빳빳', '소재', '여리해', '보이', '생각', '안...</td>\n",
       "    </tr>\n",
       "    <tr>\n",
       "      <th>2</th>\n",
       "      <td>라벨르 베이직셔츠</td>\n",
       "      <td>5</td>\n",
       "      <td>청바지에도 어울리고 슬랙스에도 어울리고 좋아요 !!</td>\n",
       "      <td>['청바지', '슬랙스']</td>\n",
       "    </tr>\n",
       "    <tr>\n",
       "      <th>3</th>\n",
       "      <td>라벨르 베이직셔츠</td>\n",
       "      <td>5</td>\n",
       "      <td>청바지에 입어도 예쁘고 치마랑 입어도 예뻐요!! 카라가 커서 기본템이어도 마냥 무난...</td>\n",
       "      <td>['청바지', '치마', '카라', '커서', '기본', '템', '이어도', '마...</td>\n",
       "    </tr>\n",
       "    <tr>\n",
       "      <th>4</th>\n",
       "      <td>라벨르 베이직셔츠</td>\n",
       "      <td>4</td>\n",
       "      <td>보들보들하니 딱 좋아용 ㅎ 소재 특성상 주름은 어쩔수 없지만 너무 예뻐요 자켓이랑 ...</td>\n",
       "      <td>['소재', '특성', '주름', '수', '자켓', '더', '아유']</td>\n",
       "    </tr>\n",
       "  </tbody>\n",
       "</table>\n",
       "</div>"
      ],
      "text/plain": [
       "         상품명  평점                                               리뷰내용  \\\n",
       "0  라벨르 베이직셔츠   5  두께도 적당하고 디자인 색감 다 맘에 들어오 \\n가격도 저렴하고 잘산것같아요!! 담...   \n",
       "1  라벨르 베이직셔츠   4  딱 기본 셔츠하게 좋아요! 부들부들한데 너무 빳빳한 소재도 아닌게 딱 여리해보이고 ...   \n",
       "2  라벨르 베이직셔츠   5                       청바지에도 어울리고 슬랙스에도 어울리고 좋아요 !!   \n",
       "3  라벨르 베이직셔츠   5  청바지에 입어도 예쁘고 치마랑 입어도 예뻐요!! 카라가 커서 기본템이어도 마냥 무난...   \n",
       "4  라벨르 베이직셔츠   4  보들보들하니 딱 좋아용 ㅎ 소재 특성상 주름은 어쩔수 없지만 너무 예뻐요 자켓이랑 ...   \n",
       "\n",
       "                                                리뷰명사  \n",
       "0          ['두께', '디자인', '색감', '맘', '가격', '담', '색도']  \n",
       "1  ['기본', '셔츠', '빳빳', '소재', '여리해', '보이', '생각', '안...  \n",
       "2                                     ['청바지', '슬랙스']  \n",
       "3  ['청바지', '치마', '카라', '커서', '기본', '템', '이어도', '마...  \n",
       "4           ['소재', '특성', '주름', '수', '자켓', '더', '아유']  "
      ]
     },
     "execution_count": 4,
     "metadata": {},
     "output_type": "execute_result"
    }
   ],
   "source": [
    "review.head()"
   ]
  },
  {
   "cell_type": "code",
   "execution_count": 5,
   "metadata": {},
   "outputs": [],
   "source": [
    "review1245=review['평점'] !=3 \n",
    "reviewnp=review[review1245] #train"
   ]
  },
  {
   "cell_type": "code",
   "execution_count": 6,
   "metadata": {},
   "outputs": [
    {
     "data": {
      "text/plain": [
       "5    42491\n",
       "4     9989\n",
       "2      518\n",
       "1      420\n",
       "Name: 평점, dtype: int64"
      ]
     },
     "execution_count": 6,
     "metadata": {},
     "output_type": "execute_result"
    }
   ],
   "source": [
    "reviewnp['평점'].value_counts()"
   ]
  },
  {
   "cell_type": "code",
   "execution_count": 7,
   "metadata": {},
   "outputs": [],
   "source": [
    "review3=review['평점']==3\n",
    "review_3=review[review3] #test"
   ]
  },
  {
   "cell_type": "code",
   "execution_count": 8,
   "metadata": {},
   "outputs": [
    {
     "data": {
      "text/html": [
       "<div>\n",
       "<style scoped>\n",
       "    .dataframe tbody tr th:only-of-type {\n",
       "        vertical-align: middle;\n",
       "    }\n",
       "\n",
       "    .dataframe tbody tr th {\n",
       "        vertical-align: top;\n",
       "    }\n",
       "\n",
       "    .dataframe thead th {\n",
       "        text-align: right;\n",
       "    }\n",
       "</style>\n",
       "<table border=\"1\" class=\"dataframe\">\n",
       "  <thead>\n",
       "    <tr style=\"text-align: right;\">\n",
       "      <th></th>\n",
       "      <th>상품명</th>\n",
       "      <th>평점</th>\n",
       "      <th>리뷰내용</th>\n",
       "      <th>리뷰명사</th>\n",
       "    </tr>\n",
       "  </thead>\n",
       "  <tbody>\n",
       "    <tr>\n",
       "      <th>43</th>\n",
       "      <td>로망드 라운드카라 롱원피스</td>\n",
       "      <td>3</td>\n",
       "      <td>디자인 깔끔하고 바이올렛 컬러도 예뻐요\\n가슴부분이 타이트한건 아쉽네요ㅠㅠ\\n글래머...</td>\n",
       "      <td>['디자인', '바이올렛', '컬러', '가슴', '부분', '타이', '트', '...</td>\n",
       "    </tr>\n",
       "    <tr>\n",
       "      <th>65</th>\n",
       "      <td>로망드 라운드카라 롱원피스</td>\n",
       "      <td>3</td>\n",
       "      <td>타이트한 핏이구요 생각보다 소재가 너무 얇네요 ㅠ 라인이 다 드러나요 ㅠ 옷은 단정...</td>\n",
       "      <td>['타이트', '핏이구', '생각', '소재', '라인', '옷']</td>\n",
       "    </tr>\n",
       "    <tr>\n",
       "      <th>67</th>\n",
       "      <td>로망드 라운드카라 롱원피스</td>\n",
       "      <td>3</td>\n",
       "      <td>사진보고 홀딱반해서 샀는데 아쉬운부분이있당\\n색은 사진보다 더 밝고 연함 사진처럼 ...</td>\n",
       "      <td>['사진', '보고', '홀딱', '부분', '색', '사진', '더', '사진',...</td>\n",
       "    </tr>\n",
       "    <tr>\n",
       "      <th>86</th>\n",
       "      <td>로망드 라운드카라 롱원피스</td>\n",
       "      <td>3</td>\n",
       "      <td>디자인 깔끔하고 바이올렛 컬러도 예뻐요\\n가슴부분이 타이트한건 아쉽네요ㅠㅠ\\n글래머...</td>\n",
       "      <td>['디자인', '바이올렛', '컬러', '가슴', '부분', '타이', '트', '...</td>\n",
       "    </tr>\n",
       "    <tr>\n",
       "      <th>108</th>\n",
       "      <td>로망드 라운드카라 롱원피스</td>\n",
       "      <td>3</td>\n",
       "      <td>타이트한 핏이구요 생각보다 소재가 너무 얇네요 ㅠ 라인이 다 드러나요 ㅠ 옷은 단정...</td>\n",
       "      <td>['타이트', '핏이구', '생각', '소재', '라인', '옷']</td>\n",
       "    </tr>\n",
       "  </tbody>\n",
       "</table>\n",
       "</div>"
      ],
      "text/plain": [
       "                상품명  평점                                               리뷰내용  \\\n",
       "43   로망드 라운드카라 롱원피스   3  디자인 깔끔하고 바이올렛 컬러도 예뻐요\\n가슴부분이 타이트한건 아쉽네요ㅠㅠ\\n글래머...   \n",
       "65   로망드 라운드카라 롱원피스   3  타이트한 핏이구요 생각보다 소재가 너무 얇네요 ㅠ 라인이 다 드러나요 ㅠ 옷은 단정...   \n",
       "67   로망드 라운드카라 롱원피스   3  사진보고 홀딱반해서 샀는데 아쉬운부분이있당\\n색은 사진보다 더 밝고 연함 사진처럼 ...   \n",
       "86   로망드 라운드카라 롱원피스   3  디자인 깔끔하고 바이올렛 컬러도 예뻐요\\n가슴부분이 타이트한건 아쉽네요ㅠㅠ\\n글래머...   \n",
       "108  로망드 라운드카라 롱원피스   3  타이트한 핏이구요 생각보다 소재가 너무 얇네요 ㅠ 라인이 다 드러나요 ㅠ 옷은 단정...   \n",
       "\n",
       "                                                  리뷰명사  \n",
       "43   ['디자인', '바이올렛', '컬러', '가슴', '부분', '타이', '트', '...  \n",
       "65               ['타이트', '핏이구', '생각', '소재', '라인', '옷']  \n",
       "67   ['사진', '보고', '홀딱', '부분', '색', '사진', '더', '사진',...  \n",
       "86   ['디자인', '바이올렛', '컬러', '가슴', '부분', '타이', '트', '...  \n",
       "108              ['타이트', '핏이구', '생각', '소재', '라인', '옷']  "
      ]
     },
     "execution_count": 8,
     "metadata": {},
     "output_type": "execute_result"
    }
   ],
   "source": [
    "review_3.head()"
   ]
  },
  {
   "cell_type": "code",
   "execution_count": 9,
   "metadata": {},
   "outputs": [
    {
     "name": "stderr",
     "output_type": "stream",
     "text": [
      "<ipython-input-9-97a9f8d2e150>:1: SettingWithCopyWarning: \n",
      "A value is trying to be set on a copy of a slice from a DataFrame.\n",
      "Try using .loc[row_indexer,col_indexer] = value instead\n",
      "\n",
      "See the caveats in the documentation: https://pandas.pydata.org/pandas-docs/stable/user_guide/indexing.html#returning-a-view-versus-a-copy\n",
      "  reviewnp['긍부정분류'] = [-1 if s <3 else 1 for s in reviewnp['평점']]\n"
     ]
    },
    {
     "data": {
      "text/html": [
       "<div>\n",
       "<style scoped>\n",
       "    .dataframe tbody tr th:only-of-type {\n",
       "        vertical-align: middle;\n",
       "    }\n",
       "\n",
       "    .dataframe tbody tr th {\n",
       "        vertical-align: top;\n",
       "    }\n",
       "\n",
       "    .dataframe thead th {\n",
       "        text-align: right;\n",
       "    }\n",
       "</style>\n",
       "<table border=\"1\" class=\"dataframe\">\n",
       "  <thead>\n",
       "    <tr style=\"text-align: right;\">\n",
       "      <th></th>\n",
       "      <th>상품명</th>\n",
       "      <th>평점</th>\n",
       "      <th>리뷰내용</th>\n",
       "      <th>리뷰명사</th>\n",
       "      <th>긍부정분류</th>\n",
       "    </tr>\n",
       "  </thead>\n",
       "  <tbody>\n",
       "    <tr>\n",
       "      <th>0</th>\n",
       "      <td>라벨르 베이직셔츠</td>\n",
       "      <td>5</td>\n",
       "      <td>두께도 적당하고 디자인 색감 다 맘에 들어오 \\n가격도 저렴하고 잘산것같아요!! 담...</td>\n",
       "      <td>['두께', '디자인', '색감', '맘', '가격', '담', '색도']</td>\n",
       "      <td>1</td>\n",
       "    </tr>\n",
       "    <tr>\n",
       "      <th>1</th>\n",
       "      <td>라벨르 베이직셔츠</td>\n",
       "      <td>4</td>\n",
       "      <td>딱 기본 셔츠하게 좋아요! 부들부들한데 너무 빳빳한 소재도 아닌게 딱 여리해보이고 ...</td>\n",
       "      <td>['기본', '셔츠', '빳빳', '소재', '여리해', '보이', '생각', '안...</td>\n",
       "      <td>1</td>\n",
       "    </tr>\n",
       "    <tr>\n",
       "      <th>2</th>\n",
       "      <td>라벨르 베이직셔츠</td>\n",
       "      <td>5</td>\n",
       "      <td>청바지에도 어울리고 슬랙스에도 어울리고 좋아요 !!</td>\n",
       "      <td>['청바지', '슬랙스']</td>\n",
       "      <td>1</td>\n",
       "    </tr>\n",
       "    <tr>\n",
       "      <th>3</th>\n",
       "      <td>라벨르 베이직셔츠</td>\n",
       "      <td>5</td>\n",
       "      <td>청바지에 입어도 예쁘고 치마랑 입어도 예뻐요!! 카라가 커서 기본템이어도 마냥 무난...</td>\n",
       "      <td>['청바지', '치마', '카라', '커서', '기본', '템', '이어도', '마...</td>\n",
       "      <td>1</td>\n",
       "    </tr>\n",
       "    <tr>\n",
       "      <th>4</th>\n",
       "      <td>라벨르 베이직셔츠</td>\n",
       "      <td>4</td>\n",
       "      <td>보들보들하니 딱 좋아용 ㅎ 소재 특성상 주름은 어쩔수 없지만 너무 예뻐요 자켓이랑 ...</td>\n",
       "      <td>['소재', '특성', '주름', '수', '자켓', '더', '아유']</td>\n",
       "      <td>1</td>\n",
       "    </tr>\n",
       "    <tr>\n",
       "      <th>...</th>\n",
       "      <td>...</td>\n",
       "      <td>...</td>\n",
       "      <td>...</td>\n",
       "      <td>...</td>\n",
       "      <td>...</td>\n",
       "    </tr>\n",
       "    <tr>\n",
       "      <th>57359</th>\n",
       "      <td>힙스 조거팬츠</td>\n",
       "      <td>5</td>\n",
       "      <td>레깅스 말고도 편하게 입고 다닐만한 팬츠 찾고 있었어욤 \\n대만족 입니당</td>\n",
       "      <td>['레깅스', '팬츠', '욤', '만족']</td>\n",
       "      <td>1</td>\n",
       "    </tr>\n",
       "    <tr>\n",
       "      <th>57360</th>\n",
       "      <td>힙스 조거팬츠</td>\n",
       "      <td>5</td>\n",
       "      <td>착용감이 좋고 핏이 이뻐요 강추합니다\\n\\n\\n(2020-09-22 22:17:22...</td>\n",
       "      <td>['착용', '감', '핏', '강', '등록', '네이버', '페이', '구매',...</td>\n",
       "      <td>1</td>\n",
       "    </tr>\n",
       "    <tr>\n",
       "      <th>57361</th>\n",
       "      <td>힙스 조거팬츠</td>\n",
       "      <td>5</td>\n",
       "      <td>편하게 입기좋아요 티랑 같이구매했는데 딱이에요 편하고 핏도이뻐요</td>\n",
       "      <td>['티', '구매', '핏']</td>\n",
       "      <td>1</td>\n",
       "    </tr>\n",
       "    <tr>\n",
       "      <th>57362</th>\n",
       "      <td>힙스 조거팬츠</td>\n",
       "      <td>5</td>\n",
       "      <td>편하게입고잇습니다~\\n\\n(2020-08-29 22:49:28 에 등록된 네이버 페...</td>\n",
       "      <td>['등록', '네이버', '페이', '구매', '평']</td>\n",
       "      <td>1</td>\n",
       "    </tr>\n",
       "    <tr>\n",
       "      <th>57363</th>\n",
       "      <td>힙스 조거팬츠</td>\n",
       "      <td>5</td>\n",
       "      <td>편해서 자주입고잇습니다\\n\\n(2020-08-29 22:51:14 에 등록된 네이버...</td>\n",
       "      <td>['자주', '등록', '네이버', '페이', '구매', '평']</td>\n",
       "      <td>1</td>\n",
       "    </tr>\n",
       "  </tbody>\n",
       "</table>\n",
       "<p>53418 rows × 5 columns</p>\n",
       "</div>"
      ],
      "text/plain": [
       "             상품명  평점                                               리뷰내용  \\\n",
       "0      라벨르 베이직셔츠   5  두께도 적당하고 디자인 색감 다 맘에 들어오 \\n가격도 저렴하고 잘산것같아요!! 담...   \n",
       "1      라벨르 베이직셔츠   4  딱 기본 셔츠하게 좋아요! 부들부들한데 너무 빳빳한 소재도 아닌게 딱 여리해보이고 ...   \n",
       "2      라벨르 베이직셔츠   5                       청바지에도 어울리고 슬랙스에도 어울리고 좋아요 !!   \n",
       "3      라벨르 베이직셔츠   5  청바지에 입어도 예쁘고 치마랑 입어도 예뻐요!! 카라가 커서 기본템이어도 마냥 무난...   \n",
       "4      라벨르 베이직셔츠   4  보들보들하니 딱 좋아용 ㅎ 소재 특성상 주름은 어쩔수 없지만 너무 예뻐요 자켓이랑 ...   \n",
       "...          ...  ..                                                ...   \n",
       "57359    힙스 조거팬츠   5           레깅스 말고도 편하게 입고 다닐만한 팬츠 찾고 있었어욤 \\n대만족 입니당   \n",
       "57360    힙스 조거팬츠   5  착용감이 좋고 핏이 이뻐요 강추합니다\\n\\n\\n(2020-09-22 22:17:22...   \n",
       "57361    힙스 조거팬츠   5               편하게 입기좋아요 티랑 같이구매했는데 딱이에요 편하고 핏도이뻐요    \n",
       "57362    힙스 조거팬츠   5  편하게입고잇습니다~\\n\\n(2020-08-29 22:49:28 에 등록된 네이버 페...   \n",
       "57363    힙스 조거팬츠   5  편해서 자주입고잇습니다\\n\\n(2020-08-29 22:51:14 에 등록된 네이버...   \n",
       "\n",
       "                                                    리뷰명사  긍부정분류  \n",
       "0              ['두께', '디자인', '색감', '맘', '가격', '담', '색도']      1  \n",
       "1      ['기본', '셔츠', '빳빳', '소재', '여리해', '보이', '생각', '안...      1  \n",
       "2                                         ['청바지', '슬랙스']      1  \n",
       "3      ['청바지', '치마', '카라', '커서', '기본', '템', '이어도', '마...      1  \n",
       "4               ['소재', '특성', '주름', '수', '자켓', '더', '아유']      1  \n",
       "...                                                  ...    ...  \n",
       "57359                           ['레깅스', '팬츠', '욤', '만족']      1  \n",
       "57360  ['착용', '감', '핏', '강', '등록', '네이버', '페이', '구매',...      1  \n",
       "57361                                   ['티', '구매', '핏']      1  \n",
       "57362                     ['등록', '네이버', '페이', '구매', '평']      1  \n",
       "57363               ['자주', '등록', '네이버', '페이', '구매', '평']      1  \n",
       "\n",
       "[53418 rows x 5 columns]"
      ]
     },
     "execution_count": 9,
     "metadata": {},
     "output_type": "execute_result"
    }
   ],
   "source": [
    "reviewnp['긍부정분류'] = [-1 if s <3 else 1 for s in reviewnp['평점']]\n",
    "reviewnp"
   ]
  },
  {
   "cell_type": "code",
   "execution_count": 10,
   "metadata": {},
   "outputs": [
    {
     "data": {
      "text/html": [
       "<div>\n",
       "<style scoped>\n",
       "    .dataframe tbody tr th:only-of-type {\n",
       "        vertical-align: middle;\n",
       "    }\n",
       "\n",
       "    .dataframe tbody tr th {\n",
       "        vertical-align: top;\n",
       "    }\n",
       "\n",
       "    .dataframe thead th {\n",
       "        text-align: right;\n",
       "    }\n",
       "</style>\n",
       "<table border=\"1\" class=\"dataframe\">\n",
       "  <thead>\n",
       "    <tr style=\"text-align: right;\">\n",
       "      <th></th>\n",
       "      <th>상품명</th>\n",
       "      <th>평점</th>\n",
       "      <th>리뷰내용</th>\n",
       "      <th>리뷰명사</th>\n",
       "      <th>긍부정분류</th>\n",
       "    </tr>\n",
       "  </thead>\n",
       "  <tbody>\n",
       "    <tr>\n",
       "      <th>0</th>\n",
       "      <td>라벨르 베이직셔츠</td>\n",
       "      <td>5</td>\n",
       "      <td>두께도 적당하고 디자인 색감 다 맘에 들어오 \\n가격도 저렴하고 잘산것같아요!! 담...</td>\n",
       "      <td>['두께', '디자인', '색감', '맘', '가격', '담', '색도']</td>\n",
       "      <td>1</td>\n",
       "    </tr>\n",
       "    <tr>\n",
       "      <th>1</th>\n",
       "      <td>라벨르 베이직셔츠</td>\n",
       "      <td>4</td>\n",
       "      <td>딱 기본 셔츠하게 좋아요! 부들부들한데 너무 빳빳한 소재도 아닌게 딱 여리해보이고 ...</td>\n",
       "      <td>['기본', '셔츠', '빳빳', '소재', '여리해', '보이', '생각', '안...</td>\n",
       "      <td>1</td>\n",
       "    </tr>\n",
       "    <tr>\n",
       "      <th>2</th>\n",
       "      <td>라벨르 베이직셔츠</td>\n",
       "      <td>5</td>\n",
       "      <td>청바지에도 어울리고 슬랙스에도 어울리고 좋아요 !!</td>\n",
       "      <td>['청바지', '슬랙스']</td>\n",
       "      <td>1</td>\n",
       "    </tr>\n",
       "    <tr>\n",
       "      <th>3</th>\n",
       "      <td>라벨르 베이직셔츠</td>\n",
       "      <td>5</td>\n",
       "      <td>청바지에 입어도 예쁘고 치마랑 입어도 예뻐요!! 카라가 커서 기본템이어도 마냥 무난...</td>\n",
       "      <td>['청바지', '치마', '카라', '커서', '기본', '템', '이어도', '마...</td>\n",
       "      <td>1</td>\n",
       "    </tr>\n",
       "    <tr>\n",
       "      <th>4</th>\n",
       "      <td>라벨르 베이직셔츠</td>\n",
       "      <td>4</td>\n",
       "      <td>보들보들하니 딱 좋아용 ㅎ 소재 특성상 주름은 어쩔수 없지만 너무 예뻐요 자켓이랑 ...</td>\n",
       "      <td>['소재', '특성', '주름', '수', '자켓', '더', '아유']</td>\n",
       "      <td>1</td>\n",
       "    </tr>\n",
       "    <tr>\n",
       "      <th>...</th>\n",
       "      <td>...</td>\n",
       "      <td>...</td>\n",
       "      <td>...</td>\n",
       "      <td>...</td>\n",
       "      <td>...</td>\n",
       "    </tr>\n",
       "    <tr>\n",
       "      <th>57359</th>\n",
       "      <td>힙스 조거팬츠</td>\n",
       "      <td>5</td>\n",
       "      <td>레깅스 말고도 편하게 입고 다닐만한 팬츠 찾고 있었어욤 \\n대만족 입니당</td>\n",
       "      <td>['레깅스', '팬츠', '욤', '만족']</td>\n",
       "      <td>1</td>\n",
       "    </tr>\n",
       "    <tr>\n",
       "      <th>57360</th>\n",
       "      <td>힙스 조거팬츠</td>\n",
       "      <td>5</td>\n",
       "      <td>착용감이 좋고 핏이 이뻐요 강추합니다\\n\\n\\n(2020-09-22 22:17:22...</td>\n",
       "      <td>['착용', '감', '핏', '강', '등록', '네이버', '페이', '구매',...</td>\n",
       "      <td>1</td>\n",
       "    </tr>\n",
       "    <tr>\n",
       "      <th>57361</th>\n",
       "      <td>힙스 조거팬츠</td>\n",
       "      <td>5</td>\n",
       "      <td>편하게 입기좋아요 티랑 같이구매했는데 딱이에요 편하고 핏도이뻐요</td>\n",
       "      <td>['티', '구매', '핏']</td>\n",
       "      <td>1</td>\n",
       "    </tr>\n",
       "    <tr>\n",
       "      <th>57362</th>\n",
       "      <td>힙스 조거팬츠</td>\n",
       "      <td>5</td>\n",
       "      <td>편하게입고잇습니다~\\n\\n(2020-08-29 22:49:28 에 등록된 네이버 페...</td>\n",
       "      <td>['등록', '네이버', '페이', '구매', '평']</td>\n",
       "      <td>1</td>\n",
       "    </tr>\n",
       "    <tr>\n",
       "      <th>57363</th>\n",
       "      <td>힙스 조거팬츠</td>\n",
       "      <td>5</td>\n",
       "      <td>편해서 자주입고잇습니다\\n\\n(2020-08-29 22:51:14 에 등록된 네이버...</td>\n",
       "      <td>['자주', '등록', '네이버', '페이', '구매', '평']</td>\n",
       "      <td>1</td>\n",
       "    </tr>\n",
       "  </tbody>\n",
       "</table>\n",
       "<p>53418 rows × 5 columns</p>\n",
       "</div>"
      ],
      "text/plain": [
       "             상품명  평점                                               리뷰내용  \\\n",
       "0      라벨르 베이직셔츠   5  두께도 적당하고 디자인 색감 다 맘에 들어오 \\n가격도 저렴하고 잘산것같아요!! 담...   \n",
       "1      라벨르 베이직셔츠   4  딱 기본 셔츠하게 좋아요! 부들부들한데 너무 빳빳한 소재도 아닌게 딱 여리해보이고 ...   \n",
       "2      라벨르 베이직셔츠   5                       청바지에도 어울리고 슬랙스에도 어울리고 좋아요 !!   \n",
       "3      라벨르 베이직셔츠   5  청바지에 입어도 예쁘고 치마랑 입어도 예뻐요!! 카라가 커서 기본템이어도 마냥 무난...   \n",
       "4      라벨르 베이직셔츠   4  보들보들하니 딱 좋아용 ㅎ 소재 특성상 주름은 어쩔수 없지만 너무 예뻐요 자켓이랑 ...   \n",
       "...          ...  ..                                                ...   \n",
       "57359    힙스 조거팬츠   5           레깅스 말고도 편하게 입고 다닐만한 팬츠 찾고 있었어욤 \\n대만족 입니당   \n",
       "57360    힙스 조거팬츠   5  착용감이 좋고 핏이 이뻐요 강추합니다\\n\\n\\n(2020-09-22 22:17:22...   \n",
       "57361    힙스 조거팬츠   5               편하게 입기좋아요 티랑 같이구매했는데 딱이에요 편하고 핏도이뻐요    \n",
       "57362    힙스 조거팬츠   5  편하게입고잇습니다~\\n\\n(2020-08-29 22:49:28 에 등록된 네이버 페...   \n",
       "57363    힙스 조거팬츠   5  편해서 자주입고잇습니다\\n\\n(2020-08-29 22:51:14 에 등록된 네이버...   \n",
       "\n",
       "                                                    리뷰명사  긍부정분류  \n",
       "0              ['두께', '디자인', '색감', '맘', '가격', '담', '색도']      1  \n",
       "1      ['기본', '셔츠', '빳빳', '소재', '여리해', '보이', '생각', '안...      1  \n",
       "2                                         ['청바지', '슬랙스']      1  \n",
       "3      ['청바지', '치마', '카라', '커서', '기본', '템', '이어도', '마...      1  \n",
       "4               ['소재', '특성', '주름', '수', '자켓', '더', '아유']      1  \n",
       "...                                                  ...    ...  \n",
       "57359                           ['레깅스', '팬츠', '욤', '만족']      1  \n",
       "57360  ['착용', '감', '핏', '강', '등록', '네이버', '페이', '구매',...      1  \n",
       "57361                                   ['티', '구매', '핏']      1  \n",
       "57362                     ['등록', '네이버', '페이', '구매', '평']      1  \n",
       "57363               ['자주', '등록', '네이버', '페이', '구매', '평']      1  \n",
       "\n",
       "[53418 rows x 5 columns]"
      ]
     },
     "execution_count": 10,
     "metadata": {},
     "output_type": "execute_result"
    }
   ],
   "source": [
    "reviewnp2=reviewnp.copy()\n",
    "reviewnp2"
   ]
  },
  {
   "cell_type": "code",
   "execution_count": 11,
   "metadata": {},
   "outputs": [],
   "source": [
    "reviewnp2.loc[:,'상품명'] = reviewnp2.loc[:,'상품명'].astype('category').cat.codes\n",
    "reviewnp2.loc[:,'리뷰내용'] = reviewnp2.loc[:,'리뷰내용'].astype('category').cat.codes\n",
    "reviewnp2.loc[:,'리뷰명사'] = reviewnp2.loc[:,'리뷰명사'].astype('category').cat.codes"
   ]
  },
  {
   "cell_type": "code",
   "execution_count": 12,
   "metadata": {},
   "outputs": [
    {
     "name": "stdout",
     "output_type": "stream",
     "text": [
      "<class 'pandas.core.frame.DataFrame'>\n",
      "Int64Index: 53418 entries, 0 to 57363\n",
      "Data columns (total 5 columns):\n",
      " #   Column  Non-Null Count  Dtype\n",
      "---  ------  --------------  -----\n",
      " 0   상품명     53418 non-null  int16\n",
      " 1   평점      53418 non-null  int64\n",
      " 2   리뷰내용    53418 non-null  int32\n",
      " 3   리뷰명사    53418 non-null  int32\n",
      " 4   긍부정분류   53418 non-null  int64\n",
      "dtypes: int16(1), int32(2), int64(2)\n",
      "memory usage: 1.7 MB\n"
     ]
    }
   ],
   "source": [
    "reviewnp2.info()"
   ]
  },
  {
   "cell_type": "code",
   "execution_count": 13,
   "metadata": {},
   "outputs": [],
   "source": [
    "from sklearn.model_selection import train_test_split\n",
    "x=reviewnp2.drop(columns=['긍부정분류'])\n",
    "y=reviewnp2['긍부정분류']\n",
    "x_train,x_test,y_train,y_test=train_test_split(x,y,test_size=0.2,random_state=0)"
   ]
  },
  {
   "cell_type": "code",
   "execution_count": 14,
   "metadata": {},
   "outputs": [
    {
     "data": {
      "text/plain": [
       "((42734, 4), (10684, 4), (42734,), (10684,))"
      ]
     },
     "execution_count": 14,
     "metadata": {},
     "output_type": "execute_result"
    }
   ],
   "source": [
    "x_train.shape,x_test.shape,y_train.shape,y_test.shape"
   ]
  },
  {
   "cell_type": "code",
   "execution_count": 18,
   "metadata": {},
   "outputs": [
    {
     "name": "stdout",
     "output_type": "stream",
     "text": [
      "DecisionTreeClassifier 정확도 : 1.0000\n",
      "RandomForestClassifier 정확도 : 1.0000\n",
      "LogiscticRegression 정확도 : 1.0000\n"
     ]
    },
    {
     "name": "stderr",
     "output_type": "stream",
     "text": [
      "C:\\anaconda\\lib\\site-packages\\sklearn\\linear_model\\_logistic.py:762: ConvergenceWarning: lbfgs failed to converge (status=1):\n",
      "STOP: TOTAL NO. of ITERATIONS REACHED LIMIT.\n",
      "\n",
      "Increase the number of iterations (max_iter) or scale the data as shown in:\n",
      "    https://scikit-learn.org/stable/modules/preprocessing.html\n",
      "Please also refer to the documentation for alternative solver options:\n",
      "    https://scikit-learn.org/stable/modules/linear_model.html#logistic-regression\n",
      "  n_iter_i = _check_optimize_result(\n"
     ]
    }
   ],
   "source": [
    "from sklearn.tree import DecisionTreeClassifier\n",
    "from sklearn.ensemble import RandomForestClassifier\n",
    "from sklearn.linear_model import LogisticRegression\n",
    "from sklearn.metrics import accuracy_score\n",
    "\n",
    "dt=DecisionTreeClassifier()\n",
    "rf=RandomForestClassifier()\n",
    "lr=LogisticRegression()\n",
    "\n",
    "#DecisionTree 학습/예측/평가\n",
    "dt.fit(x_train,y_train)\n",
    "dt_pred=dt.predict(x_test)\n",
    "print('DecisionTreeClassifier 정확도 : {0:.4f}'.format(accuracy_score(y_test,dt_pred)))\n",
    "\n",
    "#RandomForest 학습/예측/평가\n",
    "rf.fit(x_train,y_train)\n",
    "rf_pred=rf.predict(x_test)\n",
    "print('RandomForestClassifier 정확도 : {0:.4f}'.format(accuracy_score(y_test,rf_pred)))\n",
    "\n",
    "#LogisticRegression 학습/예측/평가\n",
    "lr.fit(x_train,y_train)\n",
    "lr_pred=lr.predict(x_test)\n",
    "print('LogiscticRegression 정확도 : {0:.4f}'.format(accuracy_score(y_test,lr_pred)))"
   ]
  },
  {
   "cell_type": "code",
   "execution_count": 19,
   "metadata": {},
   "outputs": [
    {
     "data": {
      "text/html": [
       "<div>\n",
       "<style scoped>\n",
       "    .dataframe tbody tr th:only-of-type {\n",
       "        vertical-align: middle;\n",
       "    }\n",
       "\n",
       "    .dataframe tbody tr th {\n",
       "        vertical-align: top;\n",
       "    }\n",
       "\n",
       "    .dataframe thead th {\n",
       "        text-align: right;\n",
       "    }\n",
       "</style>\n",
       "<table border=\"1\" class=\"dataframe\">\n",
       "  <thead>\n",
       "    <tr style=\"text-align: right;\">\n",
       "      <th></th>\n",
       "      <th>상품명</th>\n",
       "      <th>평점</th>\n",
       "      <th>리뷰내용</th>\n",
       "      <th>리뷰명사</th>\n",
       "    </tr>\n",
       "  </thead>\n",
       "  <tbody>\n",
       "    <tr>\n",
       "      <th>43</th>\n",
       "      <td>로망드 라운드카라 롱원피스</td>\n",
       "      <td>3</td>\n",
       "      <td>디자인 깔끔하고 바이올렛 컬러도 예뻐요\\n가슴부분이 타이트한건 아쉽네요ㅠㅠ\\n글래머...</td>\n",
       "      <td>['디자인', '바이올렛', '컬러', '가슴', '부분', '타이', '트', '...</td>\n",
       "    </tr>\n",
       "    <tr>\n",
       "      <th>65</th>\n",
       "      <td>로망드 라운드카라 롱원피스</td>\n",
       "      <td>3</td>\n",
       "      <td>타이트한 핏이구요 생각보다 소재가 너무 얇네요 ㅠ 라인이 다 드러나요 ㅠ 옷은 단정...</td>\n",
       "      <td>['타이트', '핏이구', '생각', '소재', '라인', '옷']</td>\n",
       "    </tr>\n",
       "    <tr>\n",
       "      <th>67</th>\n",
       "      <td>로망드 라운드카라 롱원피스</td>\n",
       "      <td>3</td>\n",
       "      <td>사진보고 홀딱반해서 샀는데 아쉬운부분이있당\\n색은 사진보다 더 밝고 연함 사진처럼 ...</td>\n",
       "      <td>['사진', '보고', '홀딱', '부분', '색', '사진', '더', '사진',...</td>\n",
       "    </tr>\n",
       "    <tr>\n",
       "      <th>86</th>\n",
       "      <td>로망드 라운드카라 롱원피스</td>\n",
       "      <td>3</td>\n",
       "      <td>디자인 깔끔하고 바이올렛 컬러도 예뻐요\\n가슴부분이 타이트한건 아쉽네요ㅠㅠ\\n글래머...</td>\n",
       "      <td>['디자인', '바이올렛', '컬러', '가슴', '부분', '타이', '트', '...</td>\n",
       "    </tr>\n",
       "    <tr>\n",
       "      <th>108</th>\n",
       "      <td>로망드 라운드카라 롱원피스</td>\n",
       "      <td>3</td>\n",
       "      <td>타이트한 핏이구요 생각보다 소재가 너무 얇네요 ㅠ 라인이 다 드러나요 ㅠ 옷은 단정...</td>\n",
       "      <td>['타이트', '핏이구', '생각', '소재', '라인', '옷']</td>\n",
       "    </tr>\n",
       "    <tr>\n",
       "      <th>...</th>\n",
       "      <td>...</td>\n",
       "      <td>...</td>\n",
       "      <td>...</td>\n",
       "      <td>...</td>\n",
       "    </tr>\n",
       "    <tr>\n",
       "      <th>57266</th>\n",
       "      <td>히나 시스루 자수블라우스</td>\n",
       "      <td>3</td>\n",
       "      <td>생각했던 블라우스에요! 예쁜데 앞에가 쫌 벌어져요</td>\n",
       "      <td>['생각', '블라우스', '앞', '쫌']</td>\n",
       "    </tr>\n",
       "    <tr>\n",
       "      <th>57269</th>\n",
       "      <td>히나 시스루 자수블라우스</td>\n",
       "      <td>3</td>\n",
       "      <td>예쁘기는 한데 진짜 많이 마른사람 아니면 입기 힘들것 같아요 ㅠ단추라인이 다벌어져요...</td>\n",
       "      <td>['진짜', '사람', '단추', '라인']</td>\n",
       "    </tr>\n",
       "    <tr>\n",
       "      <th>57303</th>\n",
       "      <td>히안 목걸이</td>\n",
       "      <td>3</td>\n",
       "      <td>예쁘긴한데 목걸이 줄이 약간 장난감..? 같은 느낌이 있는고같아여</td>\n",
       "      <td>['목걸이', '약간', '장난감', '느낌']</td>\n",
       "    </tr>\n",
       "    <tr>\n",
       "      <th>57340</th>\n",
       "      <td>히피 스퀘어 블라우스</td>\n",
       "      <td>3</td>\n",
       "      <td>괜찮아용 ! 생각 보다 몸에 핏되는 거 같진\\n않아요</td>\n",
       "      <td>['생각', '몸', '핏되', '거']</td>\n",
       "    </tr>\n",
       "    <tr>\n",
       "      <th>57357</th>\n",
       "      <td>힙스 조거팬츠</td>\n",
       "      <td>3</td>\n",
       "      <td>딱 맞아용 상의랑 입어보진 않았는데\\n나갈때 입어보려고요 편하게 츄리닝으로 장 입고...</td>\n",
       "      <td>['상의', '때', '츄리닝', '장', '것']</td>\n",
       "    </tr>\n",
       "  </tbody>\n",
       "</table>\n",
       "<p>3946 rows × 4 columns</p>\n",
       "</div>"
      ],
      "text/plain": [
       "                  상품명  평점                                               리뷰내용  \\\n",
       "43     로망드 라운드카라 롱원피스   3  디자인 깔끔하고 바이올렛 컬러도 예뻐요\\n가슴부분이 타이트한건 아쉽네요ㅠㅠ\\n글래머...   \n",
       "65     로망드 라운드카라 롱원피스   3  타이트한 핏이구요 생각보다 소재가 너무 얇네요 ㅠ 라인이 다 드러나요 ㅠ 옷은 단정...   \n",
       "67     로망드 라운드카라 롱원피스   3  사진보고 홀딱반해서 샀는데 아쉬운부분이있당\\n색은 사진보다 더 밝고 연함 사진처럼 ...   \n",
       "86     로망드 라운드카라 롱원피스   3  디자인 깔끔하고 바이올렛 컬러도 예뻐요\\n가슴부분이 타이트한건 아쉽네요ㅠㅠ\\n글래머...   \n",
       "108    로망드 라운드카라 롱원피스   3  타이트한 핏이구요 생각보다 소재가 너무 얇네요 ㅠ 라인이 다 드러나요 ㅠ 옷은 단정...   \n",
       "...               ...  ..                                                ...   \n",
       "57266   히나 시스루 자수블라우스   3                        생각했던 블라우스에요! 예쁜데 앞에가 쫌 벌어져요   \n",
       "57269   히나 시스루 자수블라우스   3  예쁘기는 한데 진짜 많이 마른사람 아니면 입기 힘들것 같아요 ㅠ단추라인이 다벌어져요...   \n",
       "57303          히안 목걸이   3               예쁘긴한데 목걸이 줄이 약간 장난감..? 같은 느낌이 있는고같아여   \n",
       "57340     히피 스퀘어 블라우스   3                      괜찮아용 ! 생각 보다 몸에 핏되는 거 같진\\n않아요   \n",
       "57357         힙스 조거팬츠   3  딱 맞아용 상의랑 입어보진 않았는데\\n나갈때 입어보려고요 편하게 츄리닝으로 장 입고...   \n",
       "\n",
       "                                                    리뷰명사  \n",
       "43     ['디자인', '바이올렛', '컬러', '가슴', '부분', '타이', '트', '...  \n",
       "65                 ['타이트', '핏이구', '생각', '소재', '라인', '옷']  \n",
       "67     ['사진', '보고', '홀딱', '부분', '색', '사진', '더', '사진',...  \n",
       "86     ['디자인', '바이올렛', '컬러', '가슴', '부분', '타이', '트', '...  \n",
       "108                ['타이트', '핏이구', '생각', '소재', '라인', '옷']  \n",
       "...                                                  ...  \n",
       "57266                           ['생각', '블라우스', '앞', '쫌']  \n",
       "57269                           ['진짜', '사람', '단추', '라인']  \n",
       "57303                         ['목걸이', '약간', '장난감', '느낌']  \n",
       "57340                             ['생각', '몸', '핏되', '거']  \n",
       "57357                       ['상의', '때', '츄리닝', '장', '것']  \n",
       "\n",
       "[3946 rows x 4 columns]"
      ]
     },
     "execution_count": 19,
     "metadata": {},
     "output_type": "execute_result"
    }
   ],
   "source": [
    "review_3"
   ]
  },
  {
   "cell_type": "code",
   "execution_count": 21,
   "metadata": {},
   "outputs": [
    {
     "name": "stderr",
     "output_type": "stream",
     "text": [
      "C:\\anaconda\\lib\\site-packages\\pandas\\core\\indexing.py:1745: SettingWithCopyWarning: \n",
      "A value is trying to be set on a copy of a slice from a DataFrame.\n",
      "Try using .loc[row_indexer,col_indexer] = value instead\n",
      "\n",
      "See the caveats in the documentation: https://pandas.pydata.org/pandas-docs/stable/user_guide/indexing.html#returning-a-view-versus-a-copy\n",
      "  isetter(ilocs[0], value)\n"
     ]
    }
   ],
   "source": [
    "review_3.loc[:,'상품명'] = review_3.loc[:,'상품명'].astype('category').cat.codes\n",
    "review_3.loc[:,'리뷰내용'] =review_3.loc[:,'리뷰내용'].astype('category').cat.codes\n",
    "review_3.loc[:,'리뷰명사'] = review_3.loc[:,'리뷰명사'].astype('category').cat.codes"
   ]
  },
  {
   "cell_type": "code",
   "execution_count": 22,
   "metadata": {},
   "outputs": [
    {
     "name": "stdout",
     "output_type": "stream",
     "text": [
      "<class 'pandas.core.frame.DataFrame'>\n",
      "Int64Index: 3946 entries, 43 to 57357\n",
      "Data columns (total 4 columns):\n",
      " #   Column  Non-Null Count  Dtype\n",
      "---  ------  --------------  -----\n",
      " 0   상품명     3946 non-null   int16\n",
      " 1   평점      3946 non-null   int64\n",
      " 2   리뷰내용    3946 non-null   int16\n",
      " 3   리뷰명사    3946 non-null   int16\n",
      "dtypes: int16(3), int64(1)\n",
      "memory usage: 84.8 KB\n"
     ]
    }
   ],
   "source": [
    "review_3.info()"
   ]
  },
  {
   "cell_type": "code",
   "execution_count": 23,
   "metadata": {},
   "outputs": [
    {
     "name": "stderr",
     "output_type": "stream",
     "text": [
      "<ipython-input-23-0adb613ed942>:1: SettingWithCopyWarning: \n",
      "A value is trying to be set on a copy of a slice from a DataFrame.\n",
      "Try using .loc[row_indexer,col_indexer] = value instead\n",
      "\n",
      "See the caveats in the documentation: https://pandas.pydata.org/pandas-docs/stable/user_guide/indexing.html#returning-a-view-versus-a-copy\n",
      "  review_3['긍부정분류']=0\n"
     ]
    }
   ],
   "source": [
    "review_3['긍부정분류']=0"
   ]
  },
  {
   "cell_type": "code",
   "execution_count": 24,
   "metadata": {},
   "outputs": [],
   "source": [
    "from sklearn.model_selection import train_test_split\n",
    "x=review_3.drop(columns=['긍부정분류'])\n",
    "y=review_3['긍부정분류']\n",
    "x_train,x_test,y_train,y_test=train_test_split(x,y,test_size=0.2,random_state=0)"
   ]
  },
  {
   "cell_type": "code",
   "execution_count": 25,
   "metadata": {},
   "outputs": [
    {
     "data": {
      "text/plain": [
       "((3156, 4), (790, 4), (3156,), (790,))"
      ]
     },
     "execution_count": 25,
     "metadata": {},
     "output_type": "execute_result"
    }
   ],
   "source": [
    "x_train.shape,x_test.shape,y_train.shape,y_test.shape"
   ]
  },
  {
   "cell_type": "code",
   "execution_count": 26,
   "metadata": {},
   "outputs": [],
   "source": [
    "from sklearn.ensemble import RandomForestRegressor\n",
    "from sklearn.metrics import mean_absolute_error\n",
    "rg=RandomForestRegressor()\n",
    "rg.fit(x_train,y_train)\n",
    "prediction=rg.predict(x_test)"
   ]
  },
  {
   "cell_type": "code",
   "execution_count": 27,
   "metadata": {},
   "outputs": [
    {
     "data": {
      "text/plain": [
       "array([0., 0., 0., 0., 0., 0., 0., 0., 0., 0., 0., 0., 0., 0., 0., 0., 0.,\n",
       "       0., 0., 0., 0., 0., 0., 0., 0., 0., 0., 0., 0., 0., 0., 0., 0., 0.,\n",
       "       0., 0., 0., 0., 0., 0., 0., 0., 0., 0., 0., 0., 0., 0., 0., 0., 0.,\n",
       "       0., 0., 0., 0., 0., 0., 0., 0., 0., 0., 0., 0., 0., 0., 0., 0., 0.,\n",
       "       0., 0., 0., 0., 0., 0., 0., 0., 0., 0., 0., 0., 0., 0., 0., 0., 0.,\n",
       "       0., 0., 0., 0., 0., 0., 0., 0., 0., 0., 0., 0., 0., 0., 0., 0., 0.,\n",
       "       0., 0., 0., 0., 0., 0., 0., 0., 0., 0., 0., 0., 0., 0., 0., 0., 0.,\n",
       "       0., 0., 0., 0., 0., 0., 0., 0., 0., 0., 0., 0., 0., 0., 0., 0., 0.,\n",
       "       0., 0., 0., 0., 0., 0., 0., 0., 0., 0., 0., 0., 0., 0., 0., 0., 0.,\n",
       "       0., 0., 0., 0., 0., 0., 0., 0., 0., 0., 0., 0., 0., 0., 0., 0., 0.,\n",
       "       0., 0., 0., 0., 0., 0., 0., 0., 0., 0., 0., 0., 0., 0., 0., 0., 0.,\n",
       "       0., 0., 0., 0., 0., 0., 0., 0., 0., 0., 0., 0., 0., 0., 0., 0., 0.,\n",
       "       0., 0., 0., 0., 0., 0., 0., 0., 0., 0., 0., 0., 0., 0., 0., 0., 0.,\n",
       "       0., 0., 0., 0., 0., 0., 0., 0., 0., 0., 0., 0., 0., 0., 0., 0., 0.,\n",
       "       0., 0., 0., 0., 0., 0., 0., 0., 0., 0., 0., 0., 0., 0., 0., 0., 0.,\n",
       "       0., 0., 0., 0., 0., 0., 0., 0., 0., 0., 0., 0., 0., 0., 0., 0., 0.,\n",
       "       0., 0., 0., 0., 0., 0., 0., 0., 0., 0., 0., 0., 0., 0., 0., 0., 0.,\n",
       "       0., 0., 0., 0., 0., 0., 0., 0., 0., 0., 0., 0., 0., 0., 0., 0., 0.,\n",
       "       0., 0., 0., 0., 0., 0., 0., 0., 0., 0., 0., 0., 0., 0., 0., 0., 0.,\n",
       "       0., 0., 0., 0., 0., 0., 0., 0., 0., 0., 0., 0., 0., 0., 0., 0., 0.,\n",
       "       0., 0., 0., 0., 0., 0., 0., 0., 0., 0., 0., 0., 0., 0., 0., 0., 0.,\n",
       "       0., 0., 0., 0., 0., 0., 0., 0., 0., 0., 0., 0., 0., 0., 0., 0., 0.,\n",
       "       0., 0., 0., 0., 0., 0., 0., 0., 0., 0., 0., 0., 0., 0., 0., 0., 0.,\n",
       "       0., 0., 0., 0., 0., 0., 0., 0., 0., 0., 0., 0., 0., 0., 0., 0., 0.,\n",
       "       0., 0., 0., 0., 0., 0., 0., 0., 0., 0., 0., 0., 0., 0., 0., 0., 0.,\n",
       "       0., 0., 0., 0., 0., 0., 0., 0., 0., 0., 0., 0., 0., 0., 0., 0., 0.,\n",
       "       0., 0., 0., 0., 0., 0., 0., 0., 0., 0., 0., 0., 0., 0., 0., 0., 0.,\n",
       "       0., 0., 0., 0., 0., 0., 0., 0., 0., 0., 0., 0., 0., 0., 0., 0., 0.,\n",
       "       0., 0., 0., 0., 0., 0., 0., 0., 0., 0., 0., 0., 0., 0., 0., 0., 0.,\n",
       "       0., 0., 0., 0., 0., 0., 0., 0., 0., 0., 0., 0., 0., 0., 0., 0., 0.,\n",
       "       0., 0., 0., 0., 0., 0., 0., 0., 0., 0., 0., 0., 0., 0., 0., 0., 0.,\n",
       "       0., 0., 0., 0., 0., 0., 0., 0., 0., 0., 0., 0., 0., 0., 0., 0., 0.,\n",
       "       0., 0., 0., 0., 0., 0., 0., 0., 0., 0., 0., 0., 0., 0., 0., 0., 0.,\n",
       "       0., 0., 0., 0., 0., 0., 0., 0., 0., 0., 0., 0., 0., 0., 0., 0., 0.,\n",
       "       0., 0., 0., 0., 0., 0., 0., 0., 0., 0., 0., 0., 0., 0., 0., 0., 0.,\n",
       "       0., 0., 0., 0., 0., 0., 0., 0., 0., 0., 0., 0., 0., 0., 0., 0., 0.,\n",
       "       0., 0., 0., 0., 0., 0., 0., 0., 0., 0., 0., 0., 0., 0., 0., 0., 0.,\n",
       "       0., 0., 0., 0., 0., 0., 0., 0., 0., 0., 0., 0., 0., 0., 0., 0., 0.,\n",
       "       0., 0., 0., 0., 0., 0., 0., 0., 0., 0., 0., 0., 0., 0., 0., 0., 0.,\n",
       "       0., 0., 0., 0., 0., 0., 0., 0., 0., 0., 0., 0., 0., 0., 0., 0., 0.,\n",
       "       0., 0., 0., 0., 0., 0., 0., 0., 0., 0., 0., 0., 0., 0., 0., 0., 0.,\n",
       "       0., 0., 0., 0., 0., 0., 0., 0., 0., 0., 0., 0., 0., 0., 0., 0., 0.,\n",
       "       0., 0., 0., 0., 0., 0., 0., 0., 0., 0., 0., 0., 0., 0., 0., 0., 0.,\n",
       "       0., 0., 0., 0., 0., 0., 0., 0., 0., 0., 0., 0., 0., 0., 0., 0., 0.,\n",
       "       0., 0., 0., 0., 0., 0., 0., 0., 0., 0., 0., 0., 0., 0., 0., 0., 0.,\n",
       "       0., 0., 0., 0., 0., 0., 0., 0., 0., 0., 0., 0., 0., 0., 0., 0., 0.,\n",
       "       0., 0., 0., 0., 0., 0., 0., 0.])"
      ]
     },
     "execution_count": 27,
     "metadata": {},
     "output_type": "execute_result"
    }
   ],
   "source": [
    "prediction"
   ]
  },
  {
   "cell_type": "markdown",
   "metadata": {},
   "source": [
    "1,2,4,5와 3을 구분하는 경우에는 -1이나 1이 나와야하는 결과이지만, 예상과 다른 결과가 나왔기 때문에 오류임을 인정하고 다른 방법으로 넘어가고자 한다."
   ]
  },
  {
   "cell_type": "code",
   "execution_count": 28,
   "metadata": {},
   "outputs": [
    {
     "data": {
      "text/plain": [
       "5    42491\n",
       "4     9989\n",
       "3     3946\n",
       "2      518\n",
       "1      420\n",
       "Name: 평점, dtype: int64"
      ]
     },
     "execution_count": 28,
     "metadata": {},
     "output_type": "execute_result"
    }
   ],
   "source": [
    "review['평점'].value_counts()"
   ]
  },
  {
   "cell_type": "markdown",
   "metadata": {},
   "source": [
    "## 두번째 방법 : 감성분석"
   ]
  },
  {
   "cell_type": "code",
   "execution_count": 3,
   "metadata": {},
   "outputs": [
    {
     "data": {
      "text/html": [
       "<div>\n",
       "<style scoped>\n",
       "    .dataframe tbody tr th:only-of-type {\n",
       "        vertical-align: middle;\n",
       "    }\n",
       "\n",
       "    .dataframe tbody tr th {\n",
       "        vertical-align: top;\n",
       "    }\n",
       "\n",
       "    .dataframe thead th {\n",
       "        text-align: right;\n",
       "    }\n",
       "</style>\n",
       "<table border=\"1\" class=\"dataframe\">\n",
       "  <thead>\n",
       "    <tr style=\"text-align: right;\">\n",
       "      <th></th>\n",
       "      <th>상품명</th>\n",
       "      <th>평점</th>\n",
       "      <th>리뷰내용</th>\n",
       "      <th>리뷰명사</th>\n",
       "    </tr>\n",
       "  </thead>\n",
       "  <tbody>\n",
       "    <tr>\n",
       "      <th>0</th>\n",
       "      <td>라벨르 베이직셔츠</td>\n",
       "      <td>5</td>\n",
       "      <td>두께도 적당하고 디자인 색감 다 맘에 들어오 \\n가격도 저렴하고 잘산것같아요!! 담...</td>\n",
       "      <td>['두께', '디자인', '색감', '맘', '가격', '담', '색도']</td>\n",
       "    </tr>\n",
       "    <tr>\n",
       "      <th>1</th>\n",
       "      <td>라벨르 베이직셔츠</td>\n",
       "      <td>4</td>\n",
       "      <td>딱 기본 셔츠하게 좋아요! 부들부들한데 너무 빳빳한 소재도 아닌게 딱 여리해보이고 ...</td>\n",
       "      <td>['기본', '셔츠', '빳빳', '소재', '여리해', '보이', '생각', '안...</td>\n",
       "    </tr>\n",
       "    <tr>\n",
       "      <th>2</th>\n",
       "      <td>라벨르 베이직셔츠</td>\n",
       "      <td>5</td>\n",
       "      <td>청바지에도 어울리고 슬랙스에도 어울리고 좋아요 !!</td>\n",
       "      <td>['청바지', '슬랙스']</td>\n",
       "    </tr>\n",
       "    <tr>\n",
       "      <th>3</th>\n",
       "      <td>라벨르 베이직셔츠</td>\n",
       "      <td>5</td>\n",
       "      <td>청바지에 입어도 예쁘고 치마랑 입어도 예뻐요!! 카라가 커서 기본템이어도 마냥 무난...</td>\n",
       "      <td>['청바지', '치마', '카라', '커서', '기본', '템', '이어도', '마...</td>\n",
       "    </tr>\n",
       "    <tr>\n",
       "      <th>4</th>\n",
       "      <td>라벨르 베이직셔츠</td>\n",
       "      <td>4</td>\n",
       "      <td>보들보들하니 딱 좋아용 ㅎ 소재 특성상 주름은 어쩔수 없지만 너무 예뻐요 자켓이랑 ...</td>\n",
       "      <td>['소재', '특성', '주름', '수', '자켓', '더', '아유']</td>\n",
       "    </tr>\n",
       "  </tbody>\n",
       "</table>\n",
       "</div>"
      ],
      "text/plain": [
       "         상품명  평점                                               리뷰내용  \\\n",
       "0  라벨르 베이직셔츠   5  두께도 적당하고 디자인 색감 다 맘에 들어오 \\n가격도 저렴하고 잘산것같아요!! 담...   \n",
       "1  라벨르 베이직셔츠   4  딱 기본 셔츠하게 좋아요! 부들부들한데 너무 빳빳한 소재도 아닌게 딱 여리해보이고 ...   \n",
       "2  라벨르 베이직셔츠   5                       청바지에도 어울리고 슬랙스에도 어울리고 좋아요 !!   \n",
       "3  라벨르 베이직셔츠   5  청바지에 입어도 예쁘고 치마랑 입어도 예뻐요!! 카라가 커서 기본템이어도 마냥 무난...   \n",
       "4  라벨르 베이직셔츠   4  보들보들하니 딱 좋아용 ㅎ 소재 특성상 주름은 어쩔수 없지만 너무 예뻐요 자켓이랑 ...   \n",
       "\n",
       "                                                리뷰명사  \n",
       "0          ['두께', '디자인', '색감', '맘', '가격', '담', '색도']  \n",
       "1  ['기본', '셔츠', '빳빳', '소재', '여리해', '보이', '생각', '안...  \n",
       "2                                     ['청바지', '슬랙스']  \n",
       "3  ['청바지', '치마', '카라', '커서', '기본', '템', '이어도', '마...  \n",
       "4           ['소재', '특성', '주름', '수', '자켓', '더', '아유']  "
      ]
     },
     "execution_count": 3,
     "metadata": {},
     "output_type": "execute_result"
    }
   ],
   "source": [
    "review.head()"
   ]
  },
  {
   "cell_type": "code",
   "execution_count": 4,
   "metadata": {},
   "outputs": [],
   "source": [
    "import re\n",
    "\n",
    "def apply_regular_expression(text):\n",
    "    hangul = re.compile('[^ ㄱ-ㅣ 가-힣]')  # 한글 추출 규칙: 띄어 쓰기(1 개)를 포함한 한글\n",
    "    result = hangul.sub('', text)  # 위에 설정한 \"hangul\"규칙을 \"text\"에 적용(.sub)시킴\n",
    "    return result"
   ]
  },
  {
   "cell_type": "code",
   "execution_count": 5,
   "metadata": {},
   "outputs": [
    {
     "data": {
      "text/plain": [
       "'두께도 적당하고 디자인 색감 다 맘에 들어오 \\n가격도 저렴하고 잘산것같아요!! 담에 다른색도 사고싶어요'"
      ]
     },
     "execution_count": 5,
     "metadata": {},
     "output_type": "execute_result"
    }
   ],
   "source": [
    "review['리뷰내용'][0]"
   ]
  },
  {
   "cell_type": "code",
   "execution_count": 7,
   "metadata": {},
   "outputs": [
    {
     "data": {
      "text/plain": [
       "'두께도 적당하고 디자인 색감 다 맘에 들어오 가격도 저렴하고 잘산것같아요 담에 다른색도 사고싶어요'"
      ]
     },
     "execution_count": 7,
     "metadata": {},
     "output_type": "execute_result"
    }
   ],
   "source": [
    "apply_regular_expression(review['리뷰내용'][0])"
   ]
  },
  {
   "cell_type": "code",
   "execution_count": 8,
   "metadata": {},
   "outputs": [],
   "source": [
    "from konlpy.tag import Okt\n",
    "from collections import Counter"
   ]
  },
  {
   "cell_type": "code",
   "execution_count": 9,
   "metadata": {},
   "outputs": [
    {
     "data": {
      "text/plain": [
       "'두께도 적당하고 디자인 색감 다 맘에 들어오 가격도 저렴하고 잘산것같아요 담에 다른색도 사고싶어요'"
      ]
     },
     "execution_count": 9,
     "metadata": {},
     "output_type": "execute_result"
    }
   ],
   "source": [
    "apply_regular_expression(review['리뷰내용'][0])"
   ]
  },
  {
   "cell_type": "code",
   "execution_count": null,
   "metadata": {},
   "outputs": [],
   "source": []
  }
 ],
 "metadata": {
  "kernelspec": {
   "display_name": "Python 3",
   "language": "python",
   "name": "python3"
  },
  "language_info": {
   "codemirror_mode": {
    "name": "ipython",
    "version": 3
   },
   "file_extension": ".py",
   "mimetype": "text/x-python",
   "name": "python",
   "nbconvert_exporter": "python",
   "pygments_lexer": "ipython3",
   "version": "3.8.8"
  }
 },
 "nbformat": 4,
 "nbformat_minor": 4
}

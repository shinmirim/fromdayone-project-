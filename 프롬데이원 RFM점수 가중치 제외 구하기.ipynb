{
 "cells": [
  {
   "cell_type": "code",
   "execution_count": 81,
   "id": "affiliated-patrol",
   "metadata": {},
   "outputs": [],
   "source": [
    "import numpy as np\n",
    "import pandas as pd"
   ]
  },
  {
   "cell_type": "code",
   "execution_count": 82,
   "id": "arbitrary-sailing",
   "metadata": {},
   "outputs": [],
   "source": [
    "R = pd.read_csv(\"C:/Users/alsrn/파이썬/프롬데이원 1분기 최근 구매일 점수 .csv\")\n",
    "F = pd.read_csv(\"C:/Users/alsrn/파이썬/프롬데이원 1분기 주문수 점수 .csv\")\n",
    "M = pd.read_csv(\"C:/Users/alsrn/파이썬/프롬데이원 1분기 구매액 점수 .csv\")"
   ]
  },
  {
   "cell_type": "code",
   "execution_count": 83,
   "id": "studied-harbor",
   "metadata": {},
   "outputs": [
    {
     "name": "stdout",
     "output_type": "stream",
     "text": [
      "                   주문자ID번호  M점수\n",
      "0    rain3770010-3298-3375    1\n",
      "1   sominnara010-6505-6625    1\n",
      "2  33127561@n010-6857-8723    1\n",
      "3  70359972@n010-3080-0528    1\n",
      "4  silentna89010-6315-0720    1\n",
      "(4774, 2)\n"
     ]
    }
   ],
   "source": [
    "print(R.head())\n",
    "print(R.shape)"
   ]
  },
  {
   "cell_type": "code",
   "execution_count": 84,
   "id": "fatal-drinking",
   "metadata": {},
   "outputs": [
    {
     "name": "stdout",
     "output_type": "stream",
     "text": [
      "                  주문자ID번호  F점수\n",
      "0  amber0504010-0000-0000    5\n",
      "1  amanda123010-4786-6885    5\n",
      "2       wood010-9599-9787    5\n",
      "3     vminis010-8006-1617    5\n",
      "4    sjin829010-3422-7118    5\n",
      "(4774, 2)\n"
     ]
    }
   ],
   "source": [
    "print(F.head())\n",
    "print(F.shape)"
   ]
  },
  {
   "cell_type": "code",
   "execution_count": 85,
   "id": "surprised-runner",
   "metadata": {},
   "outputs": [
    {
     "name": "stdout",
     "output_type": "stream",
     "text": [
      "              주문자ID번호  R점수\n",
      "0         오주영juyo****    1\n",
      "1  spi41010-3397-5841    1\n",
      "2       010-3383-9815    1\n",
      "3         김현지happ****    1\n",
      "4         박시은104t****    1\n",
      "(4774, 2)\n"
     ]
    }
   ],
   "source": [
    "print(M.head())\n",
    "print(M.shape)"
   ]
  },
  {
   "cell_type": "code",
   "execution_count": 86,
   "id": "inner-strip",
   "metadata": {},
   "outputs": [],
   "source": [
    "RF = pd.merge(R, F, on=\"주문자ID번호\")\n",
    "RFM = pd.merge(RF,M, on=\"주문자ID번호\")"
   ]
  },
  {
   "cell_type": "code",
   "execution_count": 87,
   "id": "competent-particular",
   "metadata": {},
   "outputs": [
    {
     "data": {
      "text/plain": [
       "(4774, 4)"
      ]
     },
     "execution_count": 87,
     "metadata": {},
     "output_type": "execute_result"
    }
   ],
   "source": [
    "RFM.shape"
   ]
  },
  {
   "cell_type": "code",
   "execution_count": 88,
   "id": "surgical-interstate",
   "metadata": {},
   "outputs": [
    {
     "data": {
      "text/html": [
       "<div>\n",
       "<style scoped>\n",
       "    .dataframe tbody tr th:only-of-type {\n",
       "        vertical-align: middle;\n",
       "    }\n",
       "\n",
       "    .dataframe tbody tr th {\n",
       "        vertical-align: top;\n",
       "    }\n",
       "\n",
       "    .dataframe thead th {\n",
       "        text-align: right;\n",
       "    }\n",
       "</style>\n",
       "<table border=\"1\" class=\"dataframe\">\n",
       "  <thead>\n",
       "    <tr style=\"text-align: right;\">\n",
       "      <th></th>\n",
       "      <th>주문자ID번호</th>\n",
       "      <th>M점수</th>\n",
       "      <th>F점수</th>\n",
       "      <th>R점수</th>\n",
       "    </tr>\n",
       "  </thead>\n",
       "  <tbody>\n",
       "    <tr>\n",
       "      <th>0</th>\n",
       "      <td>rain3770010-3298-3375</td>\n",
       "      <td>1</td>\n",
       "      <td>2</td>\n",
       "      <td>2</td>\n",
       "    </tr>\n",
       "    <tr>\n",
       "      <th>1</th>\n",
       "      <td>sominnara010-6505-6625</td>\n",
       "      <td>1</td>\n",
       "      <td>1</td>\n",
       "      <td>1</td>\n",
       "    </tr>\n",
       "    <tr>\n",
       "      <th>2</th>\n",
       "      <td>33127561@n010-6857-8723</td>\n",
       "      <td>1</td>\n",
       "      <td>2</td>\n",
       "      <td>1</td>\n",
       "    </tr>\n",
       "    <tr>\n",
       "      <th>3</th>\n",
       "      <td>70359972@n010-3080-0528</td>\n",
       "      <td>1</td>\n",
       "      <td>3</td>\n",
       "      <td>2</td>\n",
       "    </tr>\n",
       "    <tr>\n",
       "      <th>4</th>\n",
       "      <td>silentna89010-6315-0720</td>\n",
       "      <td>1</td>\n",
       "      <td>3</td>\n",
       "      <td>5</td>\n",
       "    </tr>\n",
       "    <tr>\n",
       "      <th>...</th>\n",
       "      <td>...</td>\n",
       "      <td>...</td>\n",
       "      <td>...</td>\n",
       "      <td>...</td>\n",
       "    </tr>\n",
       "    <tr>\n",
       "      <th>4769</th>\n",
       "      <td>emihui010-8369-5115</td>\n",
       "      <td>5</td>\n",
       "      <td>3</td>\n",
       "      <td>3</td>\n",
       "    </tr>\n",
       "    <tr>\n",
       "      <th>4770</th>\n",
       "      <td>김다예daye****</td>\n",
       "      <td>5</td>\n",
       "      <td>2</td>\n",
       "      <td>1</td>\n",
       "    </tr>\n",
       "    <tr>\n",
       "      <th>4771</th>\n",
       "      <td>wldmsd22010-2260-4430</td>\n",
       "      <td>5</td>\n",
       "      <td>4</td>\n",
       "      <td>5</td>\n",
       "    </tr>\n",
       "    <tr>\n",
       "      <th>4772</th>\n",
       "      <td>ohninipink010-9538-0114</td>\n",
       "      <td>5</td>\n",
       "      <td>4</td>\n",
       "      <td>4</td>\n",
       "    </tr>\n",
       "    <tr>\n",
       "      <th>4773</th>\n",
       "      <td>spqu55010-5550-2683</td>\n",
       "      <td>5</td>\n",
       "      <td>2</td>\n",
       "      <td>1</td>\n",
       "    </tr>\n",
       "  </tbody>\n",
       "</table>\n",
       "<p>4774 rows × 4 columns</p>\n",
       "</div>"
      ],
      "text/plain": [
       "                      주문자ID번호  M점수  F점수  R점수\n",
       "0       rain3770010-3298-3375    1    2    2\n",
       "1      sominnara010-6505-6625    1    1    1\n",
       "2     33127561@n010-6857-8723    1    2    1\n",
       "3     70359972@n010-3080-0528    1    3    2\n",
       "4     silentna89010-6315-0720    1    3    5\n",
       "...                       ...  ...  ...  ...\n",
       "4769      emihui010-8369-5115    5    3    3\n",
       "4770              김다예daye****    5    2    1\n",
       "4771    wldmsd22010-2260-4430    5    4    5\n",
       "4772  ohninipink010-9538-0114    5    4    4\n",
       "4773      spqu55010-5550-2683    5    2    1\n",
       "\n",
       "[4774 rows x 4 columns]"
      ]
     },
     "execution_count": 88,
     "metadata": {},
     "output_type": "execute_result"
    }
   ],
   "source": [
    "RFM"
   ]
  },
  {
   "cell_type": "code",
   "execution_count": 89,
   "id": "organized-electricity",
   "metadata": {},
   "outputs": [],
   "source": [
    "RFM[\"RFM점수\"] = RFM[\"M점수\"]+RFM[\"F점수\"]+RFM[\"R점수\"]"
   ]
  },
  {
   "cell_type": "code",
   "execution_count": 72,
   "id": "revised-present",
   "metadata": {},
   "outputs": [],
   "source": [
    "# RFM[\"W_RFM점수\"]  = 0.5 * RFM[\"M점수\"] + 0.3 * RFM[\"F점수\"] + 0.8* RFM[\"R점수\"]"
   ]
  },
  {
   "cell_type": "code",
   "execution_count": 90,
   "id": "moving-ballot",
   "metadata": {},
   "outputs": [
    {
     "data": {
      "text/html": [
       "<div>\n",
       "<style scoped>\n",
       "    .dataframe tbody tr th:only-of-type {\n",
       "        vertical-align: middle;\n",
       "    }\n",
       "\n",
       "    .dataframe tbody tr th {\n",
       "        vertical-align: top;\n",
       "    }\n",
       "\n",
       "    .dataframe thead th {\n",
       "        text-align: right;\n",
       "    }\n",
       "</style>\n",
       "<table border=\"1\" class=\"dataframe\">\n",
       "  <thead>\n",
       "    <tr style=\"text-align: right;\">\n",
       "      <th></th>\n",
       "      <th>주문자ID번호</th>\n",
       "      <th>M점수</th>\n",
       "      <th>F점수</th>\n",
       "      <th>R점수</th>\n",
       "      <th>RFM점수</th>\n",
       "    </tr>\n",
       "  </thead>\n",
       "  <tbody>\n",
       "    <tr>\n",
       "      <th>0</th>\n",
       "      <td>rain3770010-3298-3375</td>\n",
       "      <td>1</td>\n",
       "      <td>2</td>\n",
       "      <td>2</td>\n",
       "      <td>5</td>\n",
       "    </tr>\n",
       "    <tr>\n",
       "      <th>1</th>\n",
       "      <td>sominnara010-6505-6625</td>\n",
       "      <td>1</td>\n",
       "      <td>1</td>\n",
       "      <td>1</td>\n",
       "      <td>3</td>\n",
       "    </tr>\n",
       "    <tr>\n",
       "      <th>2</th>\n",
       "      <td>33127561@n010-6857-8723</td>\n",
       "      <td>1</td>\n",
       "      <td>2</td>\n",
       "      <td>1</td>\n",
       "      <td>4</td>\n",
       "    </tr>\n",
       "    <tr>\n",
       "      <th>3</th>\n",
       "      <td>70359972@n010-3080-0528</td>\n",
       "      <td>1</td>\n",
       "      <td>3</td>\n",
       "      <td>2</td>\n",
       "      <td>6</td>\n",
       "    </tr>\n",
       "    <tr>\n",
       "      <th>4</th>\n",
       "      <td>silentna89010-6315-0720</td>\n",
       "      <td>1</td>\n",
       "      <td>3</td>\n",
       "      <td>5</td>\n",
       "      <td>9</td>\n",
       "    </tr>\n",
       "    <tr>\n",
       "      <th>5</th>\n",
       "      <td>1168491540@k010-9622-1190</td>\n",
       "      <td>1</td>\n",
       "      <td>2</td>\n",
       "      <td>2</td>\n",
       "      <td>5</td>\n",
       "    </tr>\n",
       "    <tr>\n",
       "      <th>6</th>\n",
       "      <td>40719331@n010-2506-9021</td>\n",
       "      <td>1</td>\n",
       "      <td>2</td>\n",
       "      <td>1</td>\n",
       "      <td>4</td>\n",
       "    </tr>\n",
       "    <tr>\n",
       "      <th>7</th>\n",
       "      <td>pianistangel010-4123-5494</td>\n",
       "      <td>1</td>\n",
       "      <td>2</td>\n",
       "      <td>1</td>\n",
       "      <td>4</td>\n",
       "    </tr>\n",
       "    <tr>\n",
       "      <th>8</th>\n",
       "      <td>ygo0416010-3510-7423</td>\n",
       "      <td>1</td>\n",
       "      <td>2</td>\n",
       "      <td>1</td>\n",
       "      <td>4</td>\n",
       "    </tr>\n",
       "    <tr>\n",
       "      <th>9</th>\n",
       "      <td>58662105@n010-6440-4759</td>\n",
       "      <td>1</td>\n",
       "      <td>3</td>\n",
       "      <td>4</td>\n",
       "      <td>8</td>\n",
       "    </tr>\n",
       "  </tbody>\n",
       "</table>\n",
       "</div>"
      ],
      "text/plain": [
       "                     주문자ID번호  M점수  F점수  R점수  RFM점수\n",
       "0      rain3770010-3298-3375    1    2    2      5\n",
       "1     sominnara010-6505-6625    1    1    1      3\n",
       "2    33127561@n010-6857-8723    1    2    1      4\n",
       "3    70359972@n010-3080-0528    1    3    2      6\n",
       "4    silentna89010-6315-0720    1    3    5      9\n",
       "5  1168491540@k010-9622-1190    1    2    2      5\n",
       "6    40719331@n010-2506-9021    1    2    1      4\n",
       "7  pianistangel010-4123-5494    1    2    1      4\n",
       "8       ygo0416010-3510-7423    1    2    1      4\n",
       "9    58662105@n010-6440-4759    1    3    4      8"
      ]
     },
     "execution_count": 90,
     "metadata": {},
     "output_type": "execute_result"
    }
   ],
   "source": [
    "RFM[:10]"
   ]
  },
  {
   "cell_type": "code",
   "execution_count": 57,
   "id": "accessible-stephen",
   "metadata": {},
   "outputs": [
    {
     "data": {
      "text/plain": [
       "546     1.6\n",
       "456     1.6\n",
       "589     1.6\n",
       "235     1.6\n",
       "356     1.6\n",
       "       ... \n",
       "4302    8.0\n",
       "3769    8.0\n",
       "3676    8.0\n",
       "3246    8.0\n",
       "3153    8.0\n",
       "Name: W_RFM점수, Length: 4776, dtype: float64"
      ]
     },
     "execution_count": 57,
     "metadata": {},
     "output_type": "execute_result"
    }
   ],
   "source": [
    "RFM[\"W_RFM점수\"].sort_values()"
   ]
  },
  {
   "cell_type": "markdown",
   "id": "optical-dover",
   "metadata": {},
   "source": [
    "### 2분기 RFM "
   ]
  },
  {
   "cell_type": "code",
   "execution_count": 91,
   "id": "seasonal-cabin",
   "metadata": {},
   "outputs": [],
   "source": [
    "R = pd.read_csv(\"C:/Users/alsrn/파이썬/프롬데이원 2분기 최근 구매일 점수.csv\")\n",
    "F = pd.read_csv(\"C:/Users/alsrn/파이썬/프롬데이원 2분기 주문수 점수.csv\")\n",
    "M = pd.read_csv(\"C:/Users/alsrn/파이썬/프롬데이원 2분기 구매액 점수.csv\")"
   ]
  },
  {
   "cell_type": "code",
   "execution_count": 92,
   "id": "gothic-allergy",
   "metadata": {},
   "outputs": [
    {
     "name": "stdout",
     "output_type": "stream",
     "text": [
      "                    주문자ID번호  R점수\n",
      "0    6773359@n010-9381-5574    5\n",
      "1   49938077@n010-8288-1034    5\n",
      "2       plom90010-4209-3577    5\n",
      "3             010-2926-1299    5\n",
      "4  dlagmltmd95010-3205-7859    5\n",
      "(4774, 2)\n"
     ]
    }
   ],
   "source": [
    "print(R.head())\n",
    "print(R.shape)"
   ]
  },
  {
   "cell_type": "code",
   "execution_count": 93,
   "id": "sixth-pharmacology",
   "metadata": {},
   "outputs": [],
   "source": [
    "RF = pd.merge(R, F, on=\"주문자ID번호\")\n",
    "RFM = pd.merge(RF,M, on=\"주문자ID번호\")"
   ]
  },
  {
   "cell_type": "code",
   "execution_count": 94,
   "id": "varying-mission",
   "metadata": {},
   "outputs": [],
   "source": [
    "RFM[\"RFM점수\"] = RFM[\"M점수\"]+RFM[\"F점수\"]+RFM[\"R점수\"]"
   ]
  },
  {
   "cell_type": "code",
   "execution_count": 79,
   "id": "municipal-playback",
   "metadata": {},
   "outputs": [],
   "source": [
    "# RFM[\"W_RFM점수\"]  = 0.5 * RFM[\"M점수\"] + 0.3 * RFM[\"F점수\"] + 0.8* RFM[\"R점수\"]"
   ]
  },
  {
   "cell_type": "code",
   "execution_count": 95,
   "id": "sorted-challenge",
   "metadata": {},
   "outputs": [
    {
     "data": {
      "text/html": [
       "<div>\n",
       "<style scoped>\n",
       "    .dataframe tbody tr th:only-of-type {\n",
       "        vertical-align: middle;\n",
       "    }\n",
       "\n",
       "    .dataframe tbody tr th {\n",
       "        vertical-align: top;\n",
       "    }\n",
       "\n",
       "    .dataframe thead th {\n",
       "        text-align: right;\n",
       "    }\n",
       "</style>\n",
       "<table border=\"1\" class=\"dataframe\">\n",
       "  <thead>\n",
       "    <tr style=\"text-align: right;\">\n",
       "      <th></th>\n",
       "      <th>주문자ID번호</th>\n",
       "      <th>R점수</th>\n",
       "      <th>F점수</th>\n",
       "      <th>M점수</th>\n",
       "      <th>RFM점수</th>\n",
       "    </tr>\n",
       "  </thead>\n",
       "  <tbody>\n",
       "    <tr>\n",
       "      <th>0</th>\n",
       "      <td>6773359@n010-9381-5574</td>\n",
       "      <td>5</td>\n",
       "      <td>3</td>\n",
       "      <td>4</td>\n",
       "      <td>12</td>\n",
       "    </tr>\n",
       "    <tr>\n",
       "      <th>1</th>\n",
       "      <td>49938077@n010-8288-1034</td>\n",
       "      <td>5</td>\n",
       "      <td>3</td>\n",
       "      <td>3</td>\n",
       "      <td>11</td>\n",
       "    </tr>\n",
       "    <tr>\n",
       "      <th>2</th>\n",
       "      <td>plom90010-4209-3577</td>\n",
       "      <td>5</td>\n",
       "      <td>4</td>\n",
       "      <td>4</td>\n",
       "      <td>13</td>\n",
       "    </tr>\n",
       "    <tr>\n",
       "      <th>3</th>\n",
       "      <td>010-2926-1299</td>\n",
       "      <td>5</td>\n",
       "      <td>3</td>\n",
       "      <td>1</td>\n",
       "      <td>9</td>\n",
       "    </tr>\n",
       "    <tr>\n",
       "      <th>4</th>\n",
       "      <td>dlagmltmd95010-3205-7859</td>\n",
       "      <td>5</td>\n",
       "      <td>2</td>\n",
       "      <td>2</td>\n",
       "      <td>9</td>\n",
       "    </tr>\n",
       "    <tr>\n",
       "      <th>...</th>\n",
       "      <td>...</td>\n",
       "      <td>...</td>\n",
       "      <td>...</td>\n",
       "      <td>...</td>\n",
       "      <td>...</td>\n",
       "    </tr>\n",
       "    <tr>\n",
       "      <th>4769</th>\n",
       "      <td>010-7414-4920</td>\n",
       "      <td>1</td>\n",
       "      <td>2</td>\n",
       "      <td>2</td>\n",
       "      <td>5</td>\n",
       "    </tr>\n",
       "    <tr>\n",
       "      <th>4770</th>\n",
       "      <td>755214608592690@f010-4099-9220</td>\n",
       "      <td>1</td>\n",
       "      <td>2</td>\n",
       "      <td>1</td>\n",
       "      <td>4</td>\n",
       "    </tr>\n",
       "    <tr>\n",
       "      <th>4771</th>\n",
       "      <td>1601304767@k010-2316-3350</td>\n",
       "      <td>1</td>\n",
       "      <td>2</td>\n",
       "      <td>2</td>\n",
       "      <td>5</td>\n",
       "    </tr>\n",
       "    <tr>\n",
       "      <th>4772</th>\n",
       "      <td>정혜빈jhb8****</td>\n",
       "      <td>1</td>\n",
       "      <td>1</td>\n",
       "      <td>1</td>\n",
       "      <td>3</td>\n",
       "    </tr>\n",
       "    <tr>\n",
       "      <th>4773</th>\n",
       "      <td>문지희appl****</td>\n",
       "      <td>1</td>\n",
       "      <td>2</td>\n",
       "      <td>1</td>\n",
       "      <td>4</td>\n",
       "    </tr>\n",
       "  </tbody>\n",
       "</table>\n",
       "<p>4774 rows × 5 columns</p>\n",
       "</div>"
      ],
      "text/plain": [
       "                             주문자ID번호  R점수  F점수  M점수  RFM점수\n",
       "0             6773359@n010-9381-5574    5    3    4     12\n",
       "1            49938077@n010-8288-1034    5    3    3     11\n",
       "2                plom90010-4209-3577    5    4    4     13\n",
       "3                      010-2926-1299    5    3    1      9\n",
       "4           dlagmltmd95010-3205-7859    5    2    2      9\n",
       "...                              ...  ...  ...  ...    ...\n",
       "4769                   010-7414-4920    1    2    2      5\n",
       "4770  755214608592690@f010-4099-9220    1    2    1      4\n",
       "4771       1601304767@k010-2316-3350    1    2    2      5\n",
       "4772                     정혜빈jhb8****    1    1    1      3\n",
       "4773                     문지희appl****    1    2    1      4\n",
       "\n",
       "[4774 rows x 5 columns]"
      ]
     },
     "execution_count": 95,
     "metadata": {},
     "output_type": "execute_result"
    }
   ],
   "source": [
    "RFM"
   ]
  },
  {
   "cell_type": "code",
   "execution_count": 96,
   "id": "conceptual-softball",
   "metadata": {},
   "outputs": [],
   "source": [
    "from tqdm import tqdm"
   ]
  },
  {
   "cell_type": "code",
   "execution_count": null,
   "id": "hundred-seminar",
   "metadata": {},
   "outputs": [],
   "source": []
  }
 ],
 "metadata": {
  "kernelspec": {
   "display_name": "Python 3",
   "language": "python",
   "name": "python3"
  },
  "language_info": {
   "codemirror_mode": {
    "name": "ipython",
    "version": 3
   },
   "file_extension": ".py",
   "mimetype": "text/x-python",
   "name": "python",
   "nbconvert_exporter": "python",
   "pygments_lexer": "ipython3",
   "version": "3.7.9"
  }
 },
 "nbformat": 4,
 "nbformat_minor": 5
}

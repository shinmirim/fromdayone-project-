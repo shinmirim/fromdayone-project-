{
 "cells": [
  {
   "cell_type": "code",
   "execution_count": 46,
   "id": "attached-cradle",
   "metadata": {},
   "outputs": [],
   "source": [
    "import pandas as pd\n",
    "import numpy as np\n",
    "import statsmodels.api as sm\n",
    "import statsmodels.formula.api as smf\n",
    "import warnings\n",
    "warnings.filterwarnings(action='ignore')\n",
    "import seaborn as sns"
   ]
  },
  {
   "cell_type": "code",
   "execution_count": 50,
   "id": "sharp-silver",
   "metadata": {},
   "outputs": [],
   "source": [
    "환불매출 = pd.read_csv(\"C:/Users/alsrn/Downloads/20210819_105159_ProductPrdchart.csv\")\n",
    "장바구니 = pd.read_csv(\"C:/Users/alsrn/파이썬/지수산식3번째 도전/통계서비스_장바구니분석_담긴상품_20210819 (2).csv\")\n",
    "긍평 = pd.read_csv(\"C:/Users/alsrn/파이썬/지수산식3번째 도전/긍평.csv\")"
   ]
  },
  {
   "cell_type": "code",
   "execution_count": 51,
   "id": "loving-advertiser",
   "metadata": {},
   "outputs": [],
   "source": [
    "df = pd.merge(환불매출, 장바구니, how = \"left\", on = \"주문상품명\")\n",
    "df2 = pd.merge(df, 긍평, how = \"left\", on = \"주문상품명\")"
   ]
  },
  {
   "cell_type": "code",
   "execution_count": 59,
   "id": "tutorial-abuse",
   "metadata": {},
   "outputs": [
    {
     "data": {
      "text/plain": [
       "주문상품명      object\n",
       "주문수         int64\n",
       "환불수         int64\n",
       "환불비율      float64\n",
       "매출액         int64\n",
       "장바구니수     float64\n",
       "조회수       float64\n",
       "장바구니비율    float64\n",
       "장비        float64\n",
       "긍정평균      float64\n",
       "리뷰수       float64\n",
       "평균평점      float64\n",
       "긍정합계      float64\n",
       "dtype: object"
      ]
     },
     "execution_count": 59,
     "metadata": {},
     "output_type": "execute_result"
    }
   ],
   "source": [
    "df2.dtypes"
   ]
  },
  {
   "cell_type": "code",
   "execution_count": 190,
   "id": "pacific-pride",
   "metadata": {},
   "outputs": [],
   "source": [
    "df2[\"평점긍정리뷰\"] = df2[\"주문수\"]  * df2[\"긍정평균\"]\n",
    "df2[\"평평평\"] = df2[\"리뷰수\"] * df2[\"평균평점\"] * df2[\"긍정평균\"]\n",
    "df2[\"신뢰도\"] = df2[\"평균평점\"] * df2[\"장바구니수\"] + df2[\"긍정평균\"]\n",
    "df2[\"안이탈율\"] = df2[\"주문수\"] * df2[\"장바구니수\"]"
   ]
  },
  {
   "cell_type": "code",
   "execution_count": 201,
   "id": "fitting-offset",
   "metadata": {},
   "outputs": [
    {
     "data": {
      "text/plain": [
       "<AxesSubplot:xlabel='매출액', ylabel='안이탈율'>"
      ]
     },
     "execution_count": 201,
     "metadata": {},
     "output_type": "execute_result"
    },
    {
     "data": {
      "image/png": "[encoded data removed]",
      "text/plain": [
       "<Figure size 432x288 with 1 Axes>"
      ]
     },
     "metadata": {
      "needs_background": "light"
     },
     "output_type": "display_data"
    }
   ],
   "source": [
    "sns.regplot(df2['매출액'],df2[\"안이탈율\"], lowess=True)"
   ]
  },
  {
   "cell_type": "code",
   "execution_count": 182,
   "id": "encouraging-consultancy",
   "metadata": {},
   "outputs": [],
   "source": [
    "df2 = df2.drop(df2[df2[\"환불비율\"] == 0].index)"
   ]
  },
  {
   "cell_type": "code",
   "execution_count": 189,
   "id": "unsigned-communications",
   "metadata": {},
   "outputs": [
    {
     "data": {
      "text/plain": [
       "<AxesSubplot:xlabel='매출액', ylabel='환불비율'>"
      ]
     },
     "execution_count": 189,
     "metadata": {},
     "output_type": "execute_result"
    },
    {
     "data": {
      "image/png": "[encoded data removed]",
      "text/plain": [
       "<Figure size 432x288 with 1 Axes>"
      ]
     },
     "metadata": {
      "needs_background": "light"
     },
     "output_type": "display_data"
    }
   ],
   "source": [
    "sns.regplot(df2['매출액'][50:],df2['환불비율'][50:], lowess=True)"
   ]
  },
  {
   "cell_type": "code",
   "execution_count": 115,
   "id": "thirty-secretariat",
   "metadata": {},
   "outputs": [
    {
     "data": {
      "text/plain": [
       "(3247, 9)"
      ]
     },
     "execution_count": 115,
     "metadata": {},
     "output_type": "execute_result"
    }
   ],
   "source": [
    "df.shape"
   ]
  },
  {
   "cell_type": "code",
   "execution_count": 116,
   "id": "selective-third",
   "metadata": {},
   "outputs": [],
   "source": [
    "df2 = df2.dropna(axis=0)"
   ]
  },
  {
   "cell_type": "code",
   "execution_count": 197,
   "id": "secret-reception",
   "metadata": {},
   "outputs": [],
   "source": [
    "x_data = df2[[\"안이탈율\",\"환불비율\",\"신뢰도\"]] #X1 X2\n",
    "target = df2[[\"매출액\"]]# Y1"
   ]
  },
  {
   "cell_type": "code",
   "execution_count": 198,
   "id": "needed-rescue",
   "metadata": {},
   "outputs": [],
   "source": [
    "x_data1 = sm.add_constant(x_data, has_constant = \"add\")"
   ]
  },
  {
   "cell_type": "code",
   "execution_count": 199,
   "id": "electric-placement",
   "metadata": {},
   "outputs": [
    {
     "data": {
      "text/html": [
       "<table class=\"simpletable\">\n",
       "<caption>OLS Regression Results</caption>\n",
       "<tr>\n",
       "  <th>Dep. Variable:</th>           <td>매출액</td>       <th>  R-squared:         </th> <td>   0.681</td> \n",
       "</tr>\n",
       "<tr>\n",
       "  <th>Model:</th>                   <td>OLS</td>       <th>  Adj. R-squared:    </th> <td>   0.680</td> \n",
       "</tr>\n",
       "<tr>\n",
       "  <th>Method:</th>             <td>Least Squares</td>  <th>  F-statistic:       </th> <td>   692.7</td> \n",
       "</tr>\n",
       "<tr>\n",
       "  <th>Date:</th>             <td>Thu, 19 Aug 2021</td> <th>  Prob (F-statistic):</th> <td>8.69e-241</td>\n",
       "</tr>\n",
       "<tr>\n",
       "  <th>Time:</th>                 <td>13:02:22</td>     <th>  Log-Likelihood:    </th> <td> -13900.</td> \n",
       "</tr>\n",
       "<tr>\n",
       "  <th>No. Observations:</th>      <td>   976</td>      <th>  AIC:               </th> <td>2.781e+04</td>\n",
       "</tr>\n",
       "<tr>\n",
       "  <th>Df Residuals:</th>          <td>   972</td>      <th>  BIC:               </th> <td>2.783e+04</td>\n",
       "</tr>\n",
       "<tr>\n",
       "  <th>Df Model:</th>              <td>     3</td>      <th>                     </th>     <td> </td>    \n",
       "</tr>\n",
       "<tr>\n",
       "  <th>Covariance Type:</th>      <td>nonrobust</td>    <th>                     </th>     <td> </td>    \n",
       "</tr>\n",
       "</table>\n",
       "<table class=\"simpletable\">\n",
       "<tr>\n",
       "    <td></td>       <th>coef</th>     <th>std err</th>      <th>t</th>      <th>P>|t|</th>  <th>[0.025</th>    <th>0.975]</th>  \n",
       "</tr>\n",
       "<tr>\n",
       "  <th>const</th> <td> 2.511e+05</td> <td> 2.28e+04</td> <td>   11.011</td> <td> 0.000</td> <td> 2.06e+05</td> <td> 2.96e+05</td>\n",
       "</tr>\n",
       "<tr>\n",
       "  <th>안이탈율</th>  <td>    8.0527</td> <td>    0.398</td> <td>   20.216</td> <td> 0.000</td> <td>    7.271</td> <td>    8.834</td>\n",
       "</tr>\n",
       "<tr>\n",
       "  <th>환불비율</th>  <td>-2.465e+05</td> <td> 3.17e+04</td> <td>   -7.783</td> <td> 0.000</td> <td>-3.09e+05</td> <td>-1.84e+05</td>\n",
       "</tr>\n",
       "<tr>\n",
       "  <th>신뢰도</th>   <td>   56.5751</td> <td>   13.287</td> <td>    4.258</td> <td> 0.000</td> <td>   30.500</td> <td>   82.650</td>\n",
       "</tr>\n",
       "</table>\n",
       "<table class=\"simpletable\">\n",
       "<tr>\n",
       "  <th>Omnibus:</th>       <td>999.104</td> <th>  Durbin-Watson:     </th>  <td>   1.218</td> \n",
       "</tr>\n",
       "<tr>\n",
       "  <th>Prob(Omnibus):</th> <td> 0.000</td>  <th>  Jarque-Bera (JB):  </th> <td>166080.094</td>\n",
       "</tr>\n",
       "<tr>\n",
       "  <th>Skew:</th>          <td> 4.351</td>  <th>  Prob(JB):          </th>  <td>    0.00</td> \n",
       "</tr>\n",
       "<tr>\n",
       "  <th>Kurtosis:</th>      <td>66.311</td>  <th>  Cond. No.          </th>  <td>1.72e+05</td> \n",
       "</tr>\n",
       "</table><br/><br/>Notes:<br/>[1] Standard Errors assume that the covariance matrix of the errors is correctly specified.<br/>[2] The condition number is large, 1.72e+05. This might indicate that there are<br/>strong multicollinearity or other numerical problems."
      ],
      "text/plain": [
       "<class 'statsmodels.iolib.summary.Summary'>\n",
       "\"\"\"\n",
       "                            OLS Regression Results                            \n",
       "==============================================================================\n",
       "Dep. Variable:                    매출액   R-squared:                       0.681\n",
       "Model:                            OLS   Adj. R-squared:                  0.680\n",
       "Method:                 Least Squares   F-statistic:                     692.7\n",
       "Date:                Thu, 19 Aug 2021   Prob (F-statistic):          8.69e-241\n",
       "Time:                        13:02:22   Log-Likelihood:                -13900.\n",
       "No. Observations:                 976   AIC:                         2.781e+04\n",
       "Df Residuals:                     972   BIC:                         2.783e+04\n",
       "Df Model:                           3                                         \n",
       "Covariance Type:            nonrobust                                         \n",
       "==============================================================================\n",
       "                 coef    std err          t      P>|t|      [0.025      0.975]\n",
       "------------------------------------------------------------------------------\n",
       "const       2.511e+05   2.28e+04     11.011      0.000    2.06e+05    2.96e+05\n",
       "안이탈율           8.0527      0.398     20.216      0.000       7.271       8.834\n",
       "환불비율       -2.465e+05   3.17e+04     -7.783      0.000   -3.09e+05   -1.84e+05\n",
       "신뢰도           56.5751     13.287      4.258      0.000      30.500      82.650\n",
       "==============================================================================\n",
       "Omnibus:                      999.104   Durbin-Watson:                   1.218\n",
       "Prob(Omnibus):                  0.000   Jarque-Bera (JB):           166080.094\n",
       "Skew:                           4.351   Prob(JB):                         0.00\n",
       "Kurtosis:                      66.311   Cond. No.                     1.72e+05\n",
       "==============================================================================\n",
       "\n",
       "Notes:\n",
       "[1] Standard Errors assume that the covariance matrix of the errors is correctly specified.\n",
       "[2] The condition number is large, 1.72e+05. This might indicate that there are\n",
       "strong multicollinearity or other numerical problems.\n",
       "\"\"\""
      ]
     },
     "execution_count": 199,
     "metadata": {},
     "output_type": "execute_result"
    }
   ],
   "source": [
    "multi_model = sm.OLS(target, x_data1)\n",
    "fitted_multi_model = multi_model.fit()\n",
    "fitted_multi_model.summary()"
   ]
  },
  {
   "cell_type": "code",
   "execution_count": 200,
   "id": "eight-railway",
   "metadata": {},
   "outputs": [
    {
     "data": {
      "text/plain": [
       "const    251115.645147\n",
       "안이탈율          8.052663\n",
       "환불비율    -246491.075566\n",
       "신뢰도          56.575078\n",
       "dtype: float64"
      ]
     },
     "execution_count": 200,
     "metadata": {},
     "output_type": "execute_result"
    }
   ],
   "source": [
    "fitted_multi_model.params"
   ]
  },
  {
   "cell_type": "code",
   "execution_count": null,
   "id": "proper-burden",
   "metadata": {},
   "outputs": [],
   "source": [
    "환불비율 : -3\n",
    "안이탈율 : 0.0001\n",
    "신뢰도 : 0.0007"
   ]
  }
 ],
 "metadata": {
  "kernelspec": {
   "display_name": "Python 3",
   "language": "python",
   "name": "python3"
  },
  "language_info": {
   "codemirror_mode": {
    "name": "ipython",
    "version": 3
   },
   "file_extension": ".py",
   "mimetype": "text/x-python",
   "name": "python",
   "nbconvert_exporter": "python",
   "pygments_lexer": "ipython3",
   "version": "3.8.8"
  }
 },
 "nbformat": 4,
 "nbformat_minor": 5
}

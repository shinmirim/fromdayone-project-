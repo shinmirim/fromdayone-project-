{
 "cells": [
  {
   "cell_type": "code",
   "execution_count": 81,
   "id": "genuine-administrator",
   "metadata": {},
   "outputs": [],
   "source": [
    "import numpy as np\n",
    "import pandas as pd"
   ]
  },
  {
   "cell_type": "code",
   "execution_count": 108,
   "id": "planned-warren",
   "metadata": {},
   "outputs": [],
   "source": [
    "R = pd.read_csv(\"C:/Users/alsrn/파이썬/프롬데이원 1분기 최근 구매일 점수 .csv\")\n",
    "F = pd.read_csv(\"C:/Users/alsrn/파이썬/프롬데이원 1분기 주문수 점수 .csv\")\n",
    "M = pd.read_csv(\"C:/Users/alsrn/파이썬/프롬데이원 1분기 구매액 점수 .csv\")\n",
    "Monetary = pd.read_csv(\"C:/Users/alsrn/파이썬/프롬데이원 1분기 총 구매액.csv\")"
   ]
  },
  {
   "cell_type": "code",
   "execution_count": 96,
   "id": "illegal-publicity",
   "metadata": {},
   "outputs": [],
   "source": [
    "from tqdm import tqdm"
   ]
  },
  {
   "cell_type": "code",
   "execution_count": 109,
   "id": "secure-panic",
   "metadata": {},
   "outputs": [],
   "source": [
    "RF = pd.merge(R, F, on=\"주문자ID번호\")\n",
    "RFM = pd.merge(RF,M, on=\"주문자ID번호\")\n",
    "RFM1_add_구매액 = pd.merge(RFM,Monetary,on=\"주문자ID번호\" ) "
   ]
  },
  {
   "cell_type": "code",
   "execution_count": 114,
   "id": "alternative-denial",
   "metadata": {},
   "outputs": [],
   "source": [
    "rfm_score = RFM1_add_구매액[['주문자ID번호', '총금액', 'R점수','F점수','M점수']]"
   ]
  },
  {
   "cell_type": "code",
   "execution_count": 116,
   "id": "rubber-beatles",
   "metadata": {},
   "outputs": [],
   "source": [
    "def get_score(level, data, reverse = False):\n",
    "    score = [] \n",
    "    for j in range(len(data)): \n",
    "        for i in range(len(level)): \n",
    "            if data[j] <= level[i]: \n",
    "                score.append(i+1) \n",
    "                break \n",
    "            elif data[j] > max(level): \n",
    "                score.append(len(level)+1) \n",
    "                break \n",
    "            else: \n",
    "                continue\n",
    "    if reverse:\n",
    "        return [len(level)+2-x for x in score]\n",
    "    else:\n",
    "        return score \n",
    " \n",
    "grid_number = 100 ## 눈금 개수, 너무 크게 잡으면 메모리 문제가 발생할 수 있음.\n",
    "weights = []\n",
    "for j in range(grid_number+1):\n",
    "    weights += [(i/grid_number,j/grid_number,(grid_number-i-j)/grid_number)\n",
    "                  for i in range(grid_number+1-j)]\n",
    "num_class = 5 ## 클래스 개수\n",
    "class_level = np.linspace(1,5,num_class+1)[1:-1] ## 클래스를 나누는 지점을 정한다.\n",
    "total_amount_of_sales = rfm_score['총금액'].sum() ## 구매금액 총합 = 총 매\n"
   ]
  },
  {
   "cell_type": "code",
   "execution_count": 118,
   "id": "stable-dealing",
   "metadata": {
    "scrolled": true
   },
   "outputs": [
    {
     "name": "stderr",
     "output_type": "stream",
     "text": [
      "[Finding Optimal weights]:   0%|                                                              | 0/5151 [00:00<?, ?it/s]c:\\users\\alsrn\\appdata\\local\\programs\\python\\python37\\lib\\site-packages\\ipykernel_launcher.py:7: SettingWithCopyWarning: \n",
      "A value is trying to be set on a copy of a slice from a DataFrame.\n",
      "Try using .loc[row_indexer,col_indexer] = value instead\n",
      "\n",
      "See the caveats in the documentation: https://pandas.pydata.org/pandas-docs/stable/user_guide/indexing.html#returning-a-view-versus-a-copy\n",
      "  import sys\n",
      "[Finding Optimal weights]: 100%|███████████████████████████████████████████████████| 5151/5151 [23:43<00:00,  3.62it/s]\n"
     ]
    }
   ],
   "source": [
    "max_std = 0 ## 표준편차 초기값\n",
    "for w in tqdm(weights,position=0,desc = '[Finding Optimal weights]'):\n",
    "    ## 주어진 가중치에 따른 고객별 점수 계산\n",
    "    score = w[0]*rfm_score['R점수'] + \\\n",
    "                        w[1]*rfm_score['F점수'] + \\\n",
    "                        w[2]*rfm_score['M점수'] \n",
    "    rfm_score['Class'] = get_score(class_level,score,True) ## 점수를 이용하여 고객별 등급 부여\n",
    "    ## 등급별로 구매금액을 집계한다.\n",
    "    grouped_rfm_score = rfm_score.groupby('Class')['총금액'].sum().reset_index()\n",
    "        \n",
    "    ## 클래스별 구매금액을 총구매금액으로 나누어 클래스별 매출 기여도 계산\n",
    "    grouped_rfm_score['총금액'] = grouped_rfm_score['총금액'].map(lambda x : x/total_amount_of_sales)\n",
    "    std_sales = grouped_rfm_score['총금액'].std() ## 매출 기여도의 표준편차 계산\n",
    "    if max_std <= std_sales:\n",
    "        max_std = std_sales ## 표준편차 최대값 업데이트\n",
    "        optimal_weights = w  ## 가중치 업데이트"
   ]
  },
  {
   "cell_type": "code",
   "execution_count": 122,
   "id": "coordinated-means",
   "metadata": {},
   "outputs": [
    {
     "name": "stdout",
     "output_type": "stream",
     "text": [
      "(0.23, 0.02, 0.75)\n"
     ]
    }
   ],
   "source": [
    "print(optimal_weights)"
   ]
  },
  {
   "cell_type": "code",
   "execution_count": null,
   "id": "voluntary-devil",
   "metadata": {},
   "outputs": [],
   "source": []
  }
 ],
 "metadata": {
  "kernelspec": {
   "display_name": "Python 3",
   "language": "python",
   "name": "python3"
  },
  "language_info": {
   "codemirror_mode": {
    "name": "ipython",
    "version": 3
   },
   "file_extension": ".py",
   "mimetype": "text/x-python",
   "name": "python",
   "nbconvert_exporter": "python",
   "pygments_lexer": "ipython3",
   "version": "3.7.9"
  }
 },
 "nbformat": 4,
 "nbformat_minor": 5
}
